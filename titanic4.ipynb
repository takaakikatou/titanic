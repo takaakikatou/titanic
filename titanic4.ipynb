{
 "cells": [
  {
   "cell_type": "code",
   "execution_count": 1,
   "metadata": {},
   "outputs": [
    {
     "name": "stderr",
     "output_type": "stream",
     "text": [
      "Duplicate key in file PosixPath('/Users/katoutakaaki/opt/anaconda3/lib/python3.8/site-packages/matplotlib/mpl-data/matplotlibrc'), line 250 ('font.family:  IPAexGothic')\n",
      "findfont: Font family ['IPAexGothic'] not found. Falling back to DejaVu Sans.\n"
     ]
    },
    {
     "name": "stdout",
     "output_type": "stream",
     "text": [
      "<class 'pandas.core.frame.DataFrame'>\n",
      "RangeIndex: 1309 entries, 0 to 1308\n",
      "Data columns (total 12 columns):\n",
      " #   Column       Non-Null Count  Dtype  \n",
      "---  ------       --------------  -----  \n",
      " 0   PassengerId  1309 non-null   int64  \n",
      " 1   Survived     891 non-null    float64\n",
      " 2   Pclass       1309 non-null   int64  \n",
      " 3   Name         1309 non-null   object \n",
      " 4   Sex          1309 non-null   object \n",
      " 5   Age          1046 non-null   float64\n",
      " 6   SibSp        1309 non-null   int64  \n",
      " 7   Parch        1309 non-null   int64  \n",
      " 8   Ticket       1309 non-null   object \n",
      " 9   Fare         1308 non-null   float64\n",
      " 10  Cabin        295 non-null    object \n",
      " 11  Embarked     1307 non-null   object \n",
      "dtypes: float64(3), int64(4), object(5)\n",
      "memory usage: 122.8+ KB\n"
     ]
    },
    {
     "data": {
      "image/png": "[encoded data removed]",
      "text/plain": [
       "<Figure size 432x288 with 1 Axes>"
      ]
     },
     "metadata": {
      "needs_background": "light"
     },
     "output_type": "display_data"
    }
   ],
   "source": [
    "import numpy as np\n",
    "import pandas as pd\n",
    "import matplotlib.pyplot as plt\n",
    "import seaborn as sns\n",
    "\n",
    "# データセットの読み込み\n",
    "train_data = pd.read_csv('./train.csv')\n",
    "test_data = pd.read_csv('./test.csv')\n",
    "\n",
    "# train_dataとtest_dataの連結\n",
    "test_data['Survived'] = np.nan\n",
    "df = pd.concat([train_data, test_data], ignore_index=True, sort=False)\n",
    "\n",
    "# dfの情報\n",
    "df.info()\n",
    "\n",
    "# Sexと生存率の関係 \n",
    "sns.barplot(x='Sex', y='Survived', data=df, palette='Set3')\n",
    "plt.show()"
   ]
  },
  {
   "cell_type": "code",
   "execution_count": 2,
   "metadata": {},
   "outputs": [
    {
     "data": {
      "image/png": "[encoded data removed]",
      "text/plain": [
       "<Figure size 484x216 with 1 Axes>"
      ]
     },
     "metadata": {
      "needs_background": "light"
     },
     "output_type": "display_data"
    }
   ],
   "source": [
    "# ------------ Age ------------\n",
    "# Age を Pclass, Sex, Parch, SibSp からランダムフォレストで推定\n",
    "from sklearn.ensemble import RandomForestRegressor\n",
    "\n",
    "# 推定に使用する項目を指定\n",
    "age_df = df[['Age', 'Pclass','Sex','Parch','SibSp']]\n",
    "\n",
    "# ラベル特徴量をワンホットエンコーディング\n",
    "age_df=pd.get_dummies(age_df)\n",
    "\n",
    "# 学習データとテストデータに分離し、numpyに変換\n",
    "known_age = age_df[age_df.Age.notnull()].values  \n",
    "unknown_age = age_df[age_df.Age.isnull()].values\n",
    "\n",
    "# 学習データをX, yに分離\n",
    "X = known_age[:, 1:]  \n",
    "y = known_age[:, 0]\n",
    "\n",
    "# ランダムフォレストで推定モデルを構築\n",
    "rfr = RandomForestRegressor(random_state=0, n_estimators=100, n_jobs=-1)\n",
    "rfr.fit(X, y)\n",
    "\n",
    "# 推定モデルを使って、テストデータのAgeを予測し、補完\n",
    "predictedAges = rfr.predict(unknown_age[:, 1::])\n",
    "df.loc[(df.Age.isnull()), 'Age'] = predictedAges \n",
    "\n",
    "# 年齢別生存曲線と死亡曲線\n",
    "facet = sns.FacetGrid(df[0:890], hue=\"Survived\",aspect=2)\n",
    "facet.map(sns.kdeplot,'Age',shade= True)\n",
    "facet.set(xlim=(0, df.loc[0:890,'Age'].max()))\n",
    "facet.add_legend()\n",
    "plt.show()"
   ]
  },
  {
   "cell_type": "code",
   "execution_count": 3,
   "metadata": {},
   "outputs": [
    {
     "data": {
      "text/plain": [
       "<AxesSubplot:xlabel='Title', ylabel='Survived'>"
      ]
     },
     "execution_count": 3,
     "metadata": {},
     "output_type": "execute_result"
    },
    {
     "data": {
      "image/png": "[encoded data removed]",
      "text/plain": [
       "<Figure size 432x288 with 1 Axes>"
      ]
     },
     "metadata": {
      "needs_background": "light"
     },
     "output_type": "display_data"
    }
   ],
   "source": [
    "# ------------ Name --------------\n",
    "# Nameから敬称(Title)を抽出し、グルーピング\n",
    "df['Title'] = df['Name'].map(lambda x: x.split(', ')[1].split('. ')[0])\n",
    "df['Title'].replace(['Capt', 'Col', 'Major', 'Dr', 'Rev'], 'Officer', inplace=True)\n",
    "df['Title'].replace(['Don', 'Sir',  'the Countess', 'Lady', 'Dona'], 'Royalty', inplace=True)\n",
    "df['Title'].replace(['Mme', 'Ms'], 'Mrs', inplace=True)\n",
    "df['Title'].replace(['Mlle'], 'Miss', inplace=True)\n",
    "df['Title'].replace(['Jonkheer'], 'Master', inplace=True)\n",
    "sns.barplot(x='Title', y='Survived', data=df, palette='Set3')"
   ]
  },
  {
   "cell_type": "code",
   "execution_count": 4,
   "metadata": {},
   "outputs": [],
   "source": [
    "# ------------ Surname ------------\n",
    "# NameからSurname(苗字)を抽出\n",
    "df['Surname'] = df['Name'].map(lambda name:name.split(',')[0].strip())\n",
    "\n",
    "# 同じSurname(苗字)の出現頻度をカウント(出現回数が2以上なら家族)\n",
    "df['FamilyGroup'] = df['Surname'].map(df['Surname'].value_counts()) "
   ]
  },
  {
   "cell_type": "code",
   "execution_count": 5,
   "metadata": {},
   "outputs": [
    {
     "name": "stdout",
     "output_type": "stream",
     "text": [
      "1.000000    113\n",
      "0.000000     32\n",
      "0.750000      2\n",
      "0.333333      1\n",
      "0.142857      1\n",
      "0.500000      1\n",
      "Name: Survived, dtype: int64\n"
     ]
    }
   ],
   "source": [
    "# 家族で16才以下または女性の生存率\n",
    "Female_Child_Group=df.loc[(df['FamilyGroup']>=2) & ((df['Age']<=16) | (df['Sex']=='female'))]\n",
    "Female_Child_Group=Female_Child_Group.groupby('Surname')['Survived'].mean()\n",
    "print(Female_Child_Group.value_counts())"
   ]
  },
  {
   "cell_type": "code",
   "execution_count": 6,
   "metadata": {},
   "outputs": [
    {
     "name": "stdout",
     "output_type": "stream",
     "text": [
      "0.000000    115\n",
      "1.000000     21\n",
      "0.500000      6\n",
      "0.333333      2\n",
      "0.250000      1\n",
      "Name: Survived, dtype: int64\n"
     ]
    }
   ],
   "source": [
    "# 家族で16才超えかつ男性の生存率\n",
    "Male_Adult_Group=df.loc[(df['FamilyGroup']>=2) & (df['Age']>16) & (df['Sex']=='male')]\n",
    "Male_Adult_List=Male_Adult_Group.groupby('Surname')['Survived'].mean()\n",
    "print(Male_Adult_List.value_counts())"
   ]
  },
  {
   "cell_type": "code",
   "execution_count": 7,
   "metadata": {},
   "outputs": [
    {
     "name": "stdout",
     "output_type": "stream",
     "text": [
      "Dead_list =  {'Sage', 'Cacic', 'Oreskovic', 'Caram', 'Lefebre', 'Johnston', 'Zabour', 'Barbara', 'Rosblom', 'Skoog', 'Strom', 'Palsson', 'Vander Planke', 'Ford', 'Arnold-Franchi', 'Goodwin', 'Lobb', 'Robins', 'Canavan', 'Boulos', 'Ilmakangas', 'Jussila', 'Turpin', 'Elias', 'Danbom', 'Rice', 'Bourke', 'Attalah', 'Panula', 'Olsson', 'Lahtinen', 'Van Impe'}\n",
      "Survived_list =  {'Greenfield', 'Nakid', 'Goldenberg', 'Bradley', 'Daly', 'Duff Gordon', 'Beane', 'McCoy', 'Chambers', 'Moubarek', 'Taylor', 'Kimball', 'Cardeza', 'Jussila', 'Frauenthal', 'Harder', 'Jonsson', 'Frolicher-Stehli', 'Dick', 'Beckwith', 'Bishop'}\n"
     ]
    }
   ],
   "source": [
    "# デッドリストとサバイブリストの作成\n",
    "Dead_list=set(Female_Child_Group[Female_Child_Group.apply(lambda x:x==0)].index)\n",
    "Survived_list=set(Male_Adult_List[Male_Adult_List.apply(lambda x:x==1)].index)\n",
    "\n",
    "# デッドリストとサバイブリストの表示\n",
    "print('Dead_list = ', Dead_list)\n",
    "print('Survived_list = ', Survived_list)\n",
    "\n",
    "# デッドリストとサバイブリストをSex, Age, Title に反映させる\n",
    "df.loc[(df['Survived'].isnull()) & (df['Surname'].apply(lambda x:x in Dead_list)),\\\n",
    "             ['Sex','Age','Title']] = ['male',28.0,'Mr']\n",
    "df.loc[(df['Survived'].isnull()) & (df['Surname'].apply(lambda x:x in Survived_list)),\\\n",
    "             ['Sex','Age','Title']] = ['female',5.0,'Mrs']"
   ]
  },
  {
   "cell_type": "code",
   "execution_count": 8,
   "metadata": {},
   "outputs": [
    {
     "name": "stdout",
     "output_type": "stream",
     "text": [
      "Dead_list =  {'Sage', 'Cacic', 'Oreskovic', 'Caram', 'Lefebre', 'Johnston', 'Zabour', 'Barbara', 'Rosblom', 'Skoog', 'Strom', 'Palsson', 'Vander Planke', 'Ford', 'Arnold-Franchi', 'Goodwin', 'Lobb', 'Robins', 'Canavan', 'Boulos', 'Ilmakangas', 'Jussila', 'Turpin', 'Elias', 'Danbom', 'Rice', 'Bourke', 'Attalah', 'Panula', 'Olsson', 'Lahtinen', 'Van Impe'}\n",
      "Survived_list =  {'Greenfield', 'Nakid', 'Goldenberg', 'Bradley', 'Daly', 'Duff Gordon', 'Beane', 'McCoy', 'Chambers', 'Moubarek', 'Taylor', 'Kimball', 'Cardeza', 'Jussila', 'Frauenthal', 'Harder', 'Jonsson', 'Frolicher-Stehli', 'Dick', 'Beckwith', 'Bishop'}\n"
     ]
    }
   ],
   "source": [
    "# デッドリストとサバイブリストの作成\n",
    "Dead_list=set(Female_Child_Group[Female_Child_Group.apply(lambda x:x==0)].index)\n",
    "Survived_list=set(Male_Adult_List[Male_Adult_List.apply(lambda x:x==1)].index)\n",
    "\n",
    "# デッドリストとサバイブリストの表示\n",
    "print('Dead_list = ', Dead_list)\n",
    "print('Survived_list = ', Survived_list)\n",
    "\n",
    "# デッドリストとサバイブリストをSex, Age, Title に反映させる\n",
    "df.loc[(df['Survived'].isnull()) & (df['Surname'].apply(lambda x:x in Dead_list)),\\\n",
    "             ['Sex','Age','Title']] = ['male',28.0,'Mr']\n",
    "df.loc[(df['Survived'].isnull()) & (df['Surname'].apply(lambda x:x in Survived_list)),\\\n",
    "             ['Sex','Age','Title']] = ['female',5.0,'Mrs']"
   ]
  },
  {
   "cell_type": "code",
   "execution_count": 9,
   "metadata": {},
   "outputs": [],
   "source": [
    "# ----------- Fare -------------\n",
    "# 欠損値を Embarked='S', Pclass=3 の平均値で補完\n",
    "fare=df.loc[(df['Embarked'] == 'S') & (df['Pclass'] == 3), 'Fare'].median()\n",
    "df['Fare']=df['Fare'].fillna(fare)"
   ]
  },
  {
   "cell_type": "code",
   "execution_count": 10,
   "metadata": {},
   "outputs": [],
   "source": [
    "# ----------- Family -------------\n",
    "# Family = SibSp + Parch + 1 を特徴量とし、グルーピング\n",
    "df['Family']=df['SibSp']+df['Parch']+1\n",
    "df.loc[(df['Family']>=2) & (df['Family']<=4), 'Family_label'] = 2\n",
    "df.loc[(df['Family']>=5) & (df['Family']<=7) | (df['Family']==1), 'Family_label'] = 1  # == に注意\n",
    "df.loc[(df['Family']>=8), 'Family_label'] = 0"
   ]
  },
  {
   "cell_type": "code",
   "execution_count": 11,
   "metadata": {},
   "outputs": [
    {
     "data": {
      "image/png": "[encoded data removed]",
      "text/plain": [
       "<Figure size 432x288 with 1 Axes>"
      ]
     },
     "metadata": {
      "needs_background": "light"
     },
     "output_type": "display_data"
    }
   ],
   "source": [
    "# ----------- Ticket ----------------\n",
    "# 同一Ticketナンバーの人が何人いるかを特徴量として抽出\n",
    "Ticket_Count = dict(df['Ticket'].value_counts())\n",
    "df['TicketGroup'] = df['Ticket'].map(Ticket_Count)\n",
    "sns.barplot(x='TicketGroup', y='Survived', data=df, palette='Set3')\n",
    "plt.show()"
   ]
  },
  {
   "cell_type": "code",
   "execution_count": 12,
   "metadata": {},
   "outputs": [
    {
     "data": {
      "image/png": "[encoded data removed]",
      "text/plain": [
       "<Figure size 432x288 with 1 Axes>"
      ]
     },
     "metadata": {
      "needs_background": "light"
     },
     "output_type": "display_data"
    }
   ],
   "source": [
    "# 生存率で3つにグルーピング\n",
    "df.loc[(df['TicketGroup']>=2) & (df['TicketGroup']<=4), 'Ticket_label'] = 2\n",
    "df.loc[(df['TicketGroup']>=5) & (df['TicketGroup']<=8) | (df['TicketGroup']==1), 'Ticket_label'] = 1  \n",
    "df.loc[(df['TicketGroup']>=11), 'Ticket_label'] = 0\n",
    "sns.barplot(x='Ticket_label', y='Survived', data=df, palette='Set3')\n",
    "plt.show()"
   ]
  },
  {
   "cell_type": "code",
   "execution_count": 13,
   "metadata": {},
   "outputs": [
    {
     "data": {
      "image/png": "[encoded data removed]",
      "text/plain": [
       "<Figure size 432x288 with 1 Axes>"
      ]
     },
     "metadata": {
      "needs_background": "light"
     },
     "output_type": "display_data"
    }
   ],
   "source": [
    "# ------------- Cabin ----------------\n",
    "# Cabinの先頭文字を特徴量とする(欠損値は U )\n",
    "df['Cabin'] = df['Cabin'].fillna('Unknown')\n",
    "df['Cabin_label']=df['Cabin'].str.get(0)\n",
    "sns.barplot(x='Cabin_label', y='Survived', data=df, palette='Set3')\n",
    "plt.show()"
   ]
  },
  {
   "cell_type": "code",
   "execution_count": 14,
   "metadata": {},
   "outputs": [],
   "source": [
    "# ---------- Embarked ---------------\n",
    "# 欠損値をSで補完\n",
    "df['Embarked'] = df['Embarked'].fillna('S') "
   ]
  },
  {
   "cell_type": "code",
   "execution_count": 15,
   "metadata": {},
   "outputs": [],
   "source": [
    "# ------------- 前処理 ---------------\n",
    "# 推定に使用する項目を指定\n",
    "df = df[['Survived','Pclass','Sex','Age','Fare','Embarked','Title','Family_label','Cabin_label','Ticket_label']]\n",
    "\n",
    "# ラベル特徴量をワンホットエンコーディング\n",
    "df = pd.get_dummies(df)\n",
    "\n",
    "# データセットを trainとtestに分割\n",
    "train = df[df['Survived'].notnull()]\n",
    "test = df[df['Survived'].isnull()].drop('Survived',axis=1)\n",
    "\n",
    "# データフレームをnumpyに変換\n",
    "X = train.values[:,1:]  \n",
    "y = train.values[:,0] \n",
    "test_x = test.values"
   ]
  },
  {
   "cell_type": "code",
   "execution_count": 16,
   "metadata": {},
   "outputs": [
    {
     "name": "stderr",
     "output_type": "stream",
     "text": [
      "/Users/katoutakaaki/opt/anaconda3/lib/python3.8/site-packages/sklearn/feature_selection/_univariate_selection.py:114: UserWarning: Features [23] are constant.\n",
      "  warnings.warn(\"Features %s are constant.\" % constant_features_idx,\n",
      "/Users/katoutakaaki/opt/anaconda3/lib/python3.8/site-packages/sklearn/feature_selection/_univariate_selection.py:116: RuntimeWarning: invalid value encountered in true_divide\n",
      "  f = msb / msw\n"
     ]
    },
    {
     "name": "stdout",
     "output_type": "stream",
     "text": [
      "mean_score =  0.8395006242197255\n",
      "mean_std =  0.049770983038016456\n"
     ]
    }
   ],
   "source": [
    "# ----------- 推定モデル構築 ---------------\n",
    "from sklearn.feature_selection import SelectKBest\n",
    "from sklearn.ensemble import RandomForestClassifier\n",
    "from sklearn.pipeline import make_pipeline\n",
    "from sklearn.model_selection import cross_validate\n",
    "\n",
    "# 採用する特徴量を25個から20個に絞り込む\n",
    "select = SelectKBest(k = 20)\n",
    "\n",
    "clf = RandomForestClassifier(random_state = 10, \n",
    "                             warm_start = True,  # 既にフィットしたモデルに学習を追加 \n",
    "                             n_estimators = 26,\n",
    "                             max_depth = 6, \n",
    "                             max_features = 'sqrt')\n",
    "pipeline = make_pipeline(select, clf)\n",
    "pipeline.fit(X, y)\n",
    "\n",
    "# フィット結果の表示\n",
    "cv_result = cross_validate(pipeline, X, y, cv= 10)\n",
    "print('mean_score = ', np.mean(cv_result['test_score']))\n",
    "print('mean_std = ', np.std(cv_result['test_score']))"
   ]
  },
  {
   "cell_type": "code",
   "execution_count": 17,
   "metadata": {},
   "outputs": [
    {
     "name": "stdout",
     "output_type": "stream",
     "text": [
      "No1 Pclass = True\n",
      "No2 Age = True\n",
      "No3 Fare = True\n",
      "No4 Family_label = True\n",
      "No5 Ticket_label = True\n",
      "No6 Sex_female = True\n",
      "No7 Sex_male = True\n",
      "No8 Embarked_C = True\n",
      "No9 Embarked_Q = False\n",
      "No10 Embarked_S = True\n",
      "No11 Title_Master = True\n",
      "No12 Title_Miss = True\n",
      "No13 Title_Mr = True\n",
      "No14 Title_Mrs = True\n",
      "No15 Title_Officer = False\n",
      "No16 Title_Royalty = True\n",
      "No17 Cabin_label_A = False\n",
      "No18 Cabin_label_B = True\n",
      "No19 Cabin_label_C = True\n",
      "No20 Cabin_label_D = True\n",
      "No21 Cabin_label_E = True\n",
      "No22 Cabin_label_F = True\n",
      "No23 Cabin_label_G = False\n",
      "No24 Cabin_label_T = False\n",
      "No25 Cabin_label_U = True\n",
      "X.shape=(891, 25), X_selected.shape=(891, 20)\n"
     ]
    }
   ],
   "source": [
    "# --------　採用した特徴量 ---------------\n",
    "# 採用の可否状況\n",
    "mask= select.get_support()\n",
    "\n",
    "# 項目のリスト\n",
    "list_col = list(df.columns[1:])\n",
    "\n",
    "# 項目別の採用可否の一覧表\n",
    "for i, j in enumerate(list_col):\n",
    "    print('No'+str(i+1), j,'=',  mask[i])\n",
    "\n",
    "# シェイプの確認\n",
    "X_selected = select.transform(X)\n",
    "print('X.shape={}, X_selected.shape={}'.format(X.shape, X_selected.shape))"
   ]
  },
  {
   "cell_type": "code",
   "execution_count": 18,
   "metadata": {},
   "outputs": [],
   "source": [
    "# ----- Submit dataの作成　------- \n",
    "PassengerId=test_data['PassengerId']\n",
    "predictions = pipeline.predict(test_x)\n",
    "submission = pd.DataFrame({\"PassengerId\": PassengerId, \"Survived\": predictions.astype(np.int32)})\n",
    "submission.to_csv(\"my_submission.csv\", index=False)"
   ]
  },
  {
   "cell_type": "code",
   "execution_count": 21,
   "metadata": {},
   "outputs": [
    {
     "ename": "NameError",
     "evalue": "name 'all_data' is not defined",
     "output_type": "error",
     "traceback": [
      "\u001b[0;31m---------------------------------------------------------------------------\u001b[0m",
      "\u001b[0;31mNameError\u001b[0m                                 Traceback (most recent call last)",
      "\u001b[0;32m<ipython-input-21-b62d3ae68dd7>\u001b[0m in \u001b[0;36m<module>\u001b[0;34m\u001b[0m\n\u001b[0;32m----> 1\u001b[0;31m \u001b[0mall_data\u001b[0m\u001b[0;34m[\u001b[0m\u001b[0;34m'Name'\u001b[0m\u001b[0;34m]\u001b[0m\u001b[0;34m\u001b[0m\u001b[0;34m\u001b[0m\u001b[0m\n\u001b[0m",
      "\u001b[0;31mNameError\u001b[0m: name 'all_data' is not defined"
     ]
    }
   ],
   "source": [
    "all_data['Name']"
   ]
  },
  {
   "cell_type": "code",
   "execution_count": 22,
   "metadata": {},
   "outputs": [],
   "source": [
    "n = 'Broumd,Mr.Owen Harris'"
   ]
  },
  {
   "cell_type": "code",
   "execution_count": 26,
   "metadata": {},
   "outputs": [
    {
     "data": {
      "text/plain": [
       "'Mr'"
      ]
     },
     "execution_count": 26,
     "metadata": {},
     "output_type": "execute_result"
    }
   ],
   "source": [
    "n.split(',')[1].split('.')[0]"
   ]
  },
  {
   "cell_type": "code",
   "execution_count": 31,
   "metadata": {},
   "outputs": [
    {
     "ename": "KeyError",
     "evalue": "'Name'",
     "output_type": "error",
     "traceback": [
      "\u001b[0;31m---------------------------------------------------------------------------\u001b[0m",
      "\u001b[0;31mKeyError\u001b[0m                                  Traceback (most recent call last)",
      "\u001b[0;32m~/opt/anaconda3/lib/python3.8/site-packages/pandas/core/indexes/base.py\u001b[0m in \u001b[0;36mget_loc\u001b[0;34m(self, key, method, tolerance)\u001b[0m\n\u001b[1;32m   2894\u001b[0m             \u001b[0;32mtry\u001b[0m\u001b[0;34m:\u001b[0m\u001b[0;34m\u001b[0m\u001b[0;34m\u001b[0m\u001b[0m\n\u001b[0;32m-> 2895\u001b[0;31m                 \u001b[0;32mreturn\u001b[0m \u001b[0mself\u001b[0m\u001b[0;34m.\u001b[0m\u001b[0m_engine\u001b[0m\u001b[0;34m.\u001b[0m\u001b[0mget_loc\u001b[0m\u001b[0;34m(\u001b[0m\u001b[0mcasted_key\u001b[0m\u001b[0;34m)\u001b[0m\u001b[0;34m\u001b[0m\u001b[0;34m\u001b[0m\u001b[0m\n\u001b[0m\u001b[1;32m   2896\u001b[0m             \u001b[0;32mexcept\u001b[0m \u001b[0mKeyError\u001b[0m \u001b[0;32mas\u001b[0m \u001b[0merr\u001b[0m\u001b[0;34m:\u001b[0m\u001b[0;34m\u001b[0m\u001b[0;34m\u001b[0m\u001b[0m\n",
      "\u001b[0;32mpandas/_libs/index.pyx\u001b[0m in \u001b[0;36mpandas._libs.index.IndexEngine.get_loc\u001b[0;34m()\u001b[0m\n",
      "\u001b[0;32mpandas/_libs/index.pyx\u001b[0m in \u001b[0;36mpandas._libs.index.IndexEngine.get_loc\u001b[0;34m()\u001b[0m\n",
      "\u001b[0;32mpandas/_libs/hashtable_class_helper.pxi\u001b[0m in \u001b[0;36mpandas._libs.hashtable.PyObjectHashTable.get_item\u001b[0;34m()\u001b[0m\n",
      "\u001b[0;32mpandas/_libs/hashtable_class_helper.pxi\u001b[0m in \u001b[0;36mpandas._libs.hashtable.PyObjectHashTable.get_item\u001b[0;34m()\u001b[0m\n",
      "\u001b[0;31mKeyError\u001b[0m: 'Name'",
      "\nThe above exception was the direct cause of the following exception:\n",
      "\u001b[0;31mKeyError\u001b[0m                                  Traceback (most recent call last)",
      "\u001b[0;32m<ipython-input-31-f8ce20ab1c0f>\u001b[0m in \u001b[0;36m<module>\u001b[0;34m\u001b[0m\n\u001b[0;32m----> 1\u001b[0;31m \u001b[0mdf\u001b[0m\u001b[0;34m[\u001b[0m\u001b[0;34m'Surname'\u001b[0m\u001b[0;34m]\u001b[0m \u001b[0;34m=\u001b[0m \u001b[0mdf\u001b[0m\u001b[0;34m[\u001b[0m\u001b[0;34m'Name'\u001b[0m\u001b[0;34m]\u001b[0m\u001b[0;34m.\u001b[0m\u001b[0mmap\u001b[0m\u001b[0;34m(\u001b[0m\u001b[0;32mlambda\u001b[0m \u001b[0mname\u001b[0m\u001b[0;34m:\u001b[0m\u001b[0mname\u001b[0m\u001b[0;34m.\u001b[0m\u001b[0msplit\u001b[0m\u001b[0;34m(\u001b[0m\u001b[0;34m','\u001b[0m\u001b[0;34m)\u001b[0m\u001b[0;34m[\u001b[0m\u001b[0;36m0\u001b[0m\u001b[0;34m]\u001b[0m\u001b[0;34m.\u001b[0m\u001b[0mstrip\u001b[0m\u001b[0;34m(\u001b[0m\u001b[0;34m)\u001b[0m\u001b[0;34m)\u001b[0m\u001b[0;34m\u001b[0m\u001b[0;34m\u001b[0m\u001b[0m\n\u001b[0m\u001b[1;32m      2\u001b[0m \u001b[0;34m\u001b[0m\u001b[0m\n\u001b[1;32m      3\u001b[0m \u001b[0;31m# 同じSurname(苗字)の出現頻度をカウント(出現回数が2以上なら家族)\u001b[0m\u001b[0;34m\u001b[0m\u001b[0;34m\u001b[0m\u001b[0;34m\u001b[0m\u001b[0m\n\u001b[1;32m      4\u001b[0m \u001b[0mdf\u001b[0m\u001b[0;34m[\u001b[0m\u001b[0;34m'FamilyGroup'\u001b[0m\u001b[0;34m]\u001b[0m \u001b[0;34m=\u001b[0m \u001b[0mdf\u001b[0m\u001b[0;34m[\u001b[0m\u001b[0;34m'Surname'\u001b[0m\u001b[0;34m]\u001b[0m\u001b[0;34m.\u001b[0m\u001b[0mmap\u001b[0m\u001b[0;34m(\u001b[0m\u001b[0mdf\u001b[0m\u001b[0;34m[\u001b[0m\u001b[0;34m'Surname'\u001b[0m\u001b[0;34m]\u001b[0m\u001b[0;34m.\u001b[0m\u001b[0mvalue_counts\u001b[0m\u001b[0;34m(\u001b[0m\u001b[0;34m)\u001b[0m\u001b[0;34m)\u001b[0m\u001b[0;34m\u001b[0m\u001b[0;34m\u001b[0m\u001b[0m\n",
      "\u001b[0;32m~/opt/anaconda3/lib/python3.8/site-packages/pandas/core/frame.py\u001b[0m in \u001b[0;36m__getitem__\u001b[0;34m(self, key)\u001b[0m\n\u001b[1;32m   2900\u001b[0m             \u001b[0;32mif\u001b[0m \u001b[0mself\u001b[0m\u001b[0;34m.\u001b[0m\u001b[0mcolumns\u001b[0m\u001b[0;34m.\u001b[0m\u001b[0mnlevels\u001b[0m \u001b[0;34m>\u001b[0m \u001b[0;36m1\u001b[0m\u001b[0;34m:\u001b[0m\u001b[0;34m\u001b[0m\u001b[0;34m\u001b[0m\u001b[0m\n\u001b[1;32m   2901\u001b[0m                 \u001b[0;32mreturn\u001b[0m \u001b[0mself\u001b[0m\u001b[0;34m.\u001b[0m\u001b[0m_getitem_multilevel\u001b[0m\u001b[0;34m(\u001b[0m\u001b[0mkey\u001b[0m\u001b[0;34m)\u001b[0m\u001b[0;34m\u001b[0m\u001b[0;34m\u001b[0m\u001b[0m\n\u001b[0;32m-> 2902\u001b[0;31m             \u001b[0mindexer\u001b[0m \u001b[0;34m=\u001b[0m \u001b[0mself\u001b[0m\u001b[0;34m.\u001b[0m\u001b[0mcolumns\u001b[0m\u001b[0;34m.\u001b[0m\u001b[0mget_loc\u001b[0m\u001b[0;34m(\u001b[0m\u001b[0mkey\u001b[0m\u001b[0;34m)\u001b[0m\u001b[0;34m\u001b[0m\u001b[0;34m\u001b[0m\u001b[0m\n\u001b[0m\u001b[1;32m   2903\u001b[0m             \u001b[0;32mif\u001b[0m \u001b[0mis_integer\u001b[0m\u001b[0;34m(\u001b[0m\u001b[0mindexer\u001b[0m\u001b[0;34m)\u001b[0m\u001b[0;34m:\u001b[0m\u001b[0;34m\u001b[0m\u001b[0;34m\u001b[0m\u001b[0m\n\u001b[1;32m   2904\u001b[0m                 \u001b[0mindexer\u001b[0m \u001b[0;34m=\u001b[0m \u001b[0;34m[\u001b[0m\u001b[0mindexer\u001b[0m\u001b[0;34m]\u001b[0m\u001b[0;34m\u001b[0m\u001b[0;34m\u001b[0m\u001b[0m\n",
      "\u001b[0;32m~/opt/anaconda3/lib/python3.8/site-packages/pandas/core/indexes/base.py\u001b[0m in \u001b[0;36mget_loc\u001b[0;34m(self, key, method, tolerance)\u001b[0m\n\u001b[1;32m   2895\u001b[0m                 \u001b[0;32mreturn\u001b[0m \u001b[0mself\u001b[0m\u001b[0;34m.\u001b[0m\u001b[0m_engine\u001b[0m\u001b[0;34m.\u001b[0m\u001b[0mget_loc\u001b[0m\u001b[0;34m(\u001b[0m\u001b[0mcasted_key\u001b[0m\u001b[0;34m)\u001b[0m\u001b[0;34m\u001b[0m\u001b[0;34m\u001b[0m\u001b[0m\n\u001b[1;32m   2896\u001b[0m             \u001b[0;32mexcept\u001b[0m \u001b[0mKeyError\u001b[0m \u001b[0;32mas\u001b[0m \u001b[0merr\u001b[0m\u001b[0;34m:\u001b[0m\u001b[0;34m\u001b[0m\u001b[0;34m\u001b[0m\u001b[0m\n\u001b[0;32m-> 2897\u001b[0;31m                 \u001b[0;32mraise\u001b[0m \u001b[0mKeyError\u001b[0m\u001b[0;34m(\u001b[0m\u001b[0mkey\u001b[0m\u001b[0;34m)\u001b[0m \u001b[0;32mfrom\u001b[0m \u001b[0merr\u001b[0m\u001b[0;34m\u001b[0m\u001b[0;34m\u001b[0m\u001b[0m\n\u001b[0m\u001b[1;32m   2898\u001b[0m \u001b[0;34m\u001b[0m\u001b[0m\n\u001b[1;32m   2899\u001b[0m         \u001b[0;32mif\u001b[0m \u001b[0mtolerance\u001b[0m \u001b[0;32mis\u001b[0m \u001b[0;32mnot\u001b[0m \u001b[0;32mNone\u001b[0m\u001b[0;34m:\u001b[0m\u001b[0;34m\u001b[0m\u001b[0;34m\u001b[0m\u001b[0m\n",
      "\u001b[0;31mKeyError\u001b[0m: 'Name'"
     ]
    }
   ],
   "source": [
    "df['Surname'] = df['Name'].map(lambda name:name.split(',')[0].strip())\n",
    "\n",
    "# 同じSurname(苗字)の出現頻度をカウント(出現回数が2以上なら家族)\n",
    "df['FamilyGroup'] = df['Surname'].map(df['Surname'].value_counts()) "
   ]
  },
  {
   "cell_type": "code",
   "execution_count": 33,
   "metadata": {},
   "outputs": [],
   "source": [
    "train = pd.read_csv('train.csv')"
   ]
  },
  {
   "cell_type": "code",
   "execution_count": 82,
   "metadata": {},
   "outputs": [],
   "source": [
    "train['Surname'] = train['Name'].map(lambda name:name.split(',')[0].strip())\n",
    "\n",
    "\n",
    "# 同じSurname(苗字)の出現頻度をカウント(出現回数が2以上なら家族)\n",
    "train['FamilyGroup'] = train['Surname'].map(train['Surname'].value_counts())"
   ]
  },
  {
   "cell_type": "code",
   "execution_count": 83,
   "metadata": {},
   "outputs": [
    {
     "data": {
      "text/plain": [
       "0      2\n",
       "1      1\n",
       "2      1\n",
       "3      2\n",
       "4      2\n",
       "      ..\n",
       "886    1\n",
       "887    3\n",
       "888    2\n",
       "889    1\n",
       "890    1\n",
       "Name: FamilyGroup, Length: 891, dtype: int64"
      ]
     },
     "execution_count": 83,
     "metadata": {},
     "output_type": "execute_result"
    }
   ],
   "source": [
    "train['FamilyGroup']"
   ]
  },
  {
   "cell_type": "code",
   "execution_count": 85,
   "metadata": {},
   "outputs": [],
   "source": [
    "Dead_list=set(Female_Child_Group[Female_Child_Group.apply(lambda x:x==0)].index)"
   ]
  },
  {
   "cell_type": "code",
   "execution_count": 78,
   "metadata": {},
   "outputs": [
    {
     "data": {
      "text/plain": [
       "{'Arnold-Franchi',\n",
       " 'Attalah',\n",
       " 'Barbara',\n",
       " 'Boulos',\n",
       " 'Bourke',\n",
       " 'Cacic',\n",
       " 'Canavan',\n",
       " 'Caram',\n",
       " 'Danbom',\n",
       " 'Elias',\n",
       " 'Ford',\n",
       " 'Goodwin',\n",
       " 'Ilmakangas',\n",
       " 'Johnston',\n",
       " 'Jussila',\n",
       " 'Lahtinen',\n",
       " 'Lefebre',\n",
       " 'Lobb',\n",
       " 'Olsson',\n",
       " 'Oreskovic',\n",
       " 'Palsson',\n",
       " 'Panula',\n",
       " 'Rice',\n",
       " 'Robins',\n",
       " 'Rosblom',\n",
       " 'Sage',\n",
       " 'Skoog',\n",
       " 'Strom',\n",
       " 'Turpin',\n",
       " 'Van Impe',\n",
       " 'Vander Planke',\n",
       " 'Zabour'}"
      ]
     },
     "execution_count": 78,
     "metadata": {},
     "output_type": "execute_result"
    }
   ],
   "source": [
    "Dead_list"
   ]
  },
  {
   "cell_type": "code",
   "execution_count": 89,
   "metadata": {},
   "outputs": [
    {
     "name": "stdout",
     "output_type": "stream",
     "text": [
      "Dead_list = {'Sage', 'Cacic', 'Oreskovic', 'Caram', 'Lefebre', 'Johnston', 'Zabour', 'Barbara', 'Rosblom', 'Skoog', 'Strom', 'Palsson', 'Vander Planke', 'Ford', 'Arnold-Franchi', 'Goodwin', 'Lobb', 'Robins', 'Canavan', 'Boulos', 'Ilmakangas', 'Jussila', 'Turpin', 'Elias', 'Danbom', 'Rice', 'Bourke', 'Attalah', 'Panula', 'Olsson', 'Lahtinen', 'Van Impe'}\n"
     ]
    }
   ],
   "source": [
    "print('Dead_list =' ,Dead_list)"
   ]
  },
  {
   "cell_type": "code",
   "execution_count": 97,
   "metadata": {},
   "outputs": [
    {
     "ename": "KeyError",
     "evalue": "'Surname'",
     "output_type": "error",
     "traceback": [
      "\u001b[0;31m---------------------------------------------------------------------------\u001b[0m",
      "\u001b[0;31mKeyError\u001b[0m                                  Traceback (most recent call last)",
      "\u001b[0;32m~/opt/anaconda3/lib/python3.8/site-packages/pandas/core/indexes/base.py\u001b[0m in \u001b[0;36mget_loc\u001b[0;34m(self, key, method, tolerance)\u001b[0m\n\u001b[1;32m   2894\u001b[0m             \u001b[0;32mtry\u001b[0m\u001b[0;34m:\u001b[0m\u001b[0;34m\u001b[0m\u001b[0;34m\u001b[0m\u001b[0m\n\u001b[0;32m-> 2895\u001b[0;31m                 \u001b[0;32mreturn\u001b[0m \u001b[0mself\u001b[0m\u001b[0;34m.\u001b[0m\u001b[0m_engine\u001b[0m\u001b[0;34m.\u001b[0m\u001b[0mget_loc\u001b[0m\u001b[0;34m(\u001b[0m\u001b[0mcasted_key\u001b[0m\u001b[0;34m)\u001b[0m\u001b[0;34m\u001b[0m\u001b[0;34m\u001b[0m\u001b[0m\n\u001b[0m\u001b[1;32m   2896\u001b[0m             \u001b[0;32mexcept\u001b[0m \u001b[0mKeyError\u001b[0m \u001b[0;32mas\u001b[0m \u001b[0merr\u001b[0m\u001b[0;34m:\u001b[0m\u001b[0;34m\u001b[0m\u001b[0;34m\u001b[0m\u001b[0m\n",
      "\u001b[0;32mpandas/_libs/index.pyx\u001b[0m in \u001b[0;36mpandas._libs.index.IndexEngine.get_loc\u001b[0;34m()\u001b[0m\n",
      "\u001b[0;32mpandas/_libs/index.pyx\u001b[0m in \u001b[0;36mpandas._libs.index.IndexEngine.get_loc\u001b[0;34m()\u001b[0m\n",
      "\u001b[0;32mpandas/_libs/hashtable_class_helper.pxi\u001b[0m in \u001b[0;36mpandas._libs.hashtable.PyObjectHashTable.get_item\u001b[0;34m()\u001b[0m\n",
      "\u001b[0;32mpandas/_libs/hashtable_class_helper.pxi\u001b[0m in \u001b[0;36mpandas._libs.hashtable.PyObjectHashTable.get_item\u001b[0;34m()\u001b[0m\n",
      "\u001b[0;31mKeyError\u001b[0m: 'Surname'",
      "\nThe above exception was the direct cause of the following exception:\n",
      "\u001b[0;31mKeyError\u001b[0m                                  Traceback (most recent call last)",
      "\u001b[0;32m<ipython-input-97-518ecda5e896>\u001b[0m in \u001b[0;36m<module>\u001b[0;34m\u001b[0m\n\u001b[0;32m----> 1\u001b[0;31m \u001b[0mdf\u001b[0m\u001b[0;34m.\u001b[0m\u001b[0mloc\u001b[0m\u001b[0;34m[\u001b[0m\u001b[0;34m(\u001b[0m\u001b[0mdf\u001b[0m\u001b[0;34m[\u001b[0m\u001b[0;34m'Survived'\u001b[0m\u001b[0;34m]\u001b[0m\u001b[0;34m.\u001b[0m\u001b[0misnull\u001b[0m\u001b[0;34m(\u001b[0m\u001b[0;34m)\u001b[0m\u001b[0;34m)\u001b[0m \u001b[0;34m&\u001b[0m \u001b[0;34m(\u001b[0m\u001b[0mdf\u001b[0m\u001b[0;34m[\u001b[0m\u001b[0;34m'Surname'\u001b[0m\u001b[0;34m]\u001b[0m\u001b[0;34m.\u001b[0m\u001b[0mapply\u001b[0m\u001b[0;34m(\u001b[0m\u001b[0;32mlambda\u001b[0m \u001b[0mx\u001b[0m\u001b[0;34m:\u001b[0m\u001b[0mx\u001b[0m \u001b[0;32min\u001b[0m \u001b[0mDead_list\u001b[0m\u001b[0;34m)\u001b[0m\u001b[0;34m)\u001b[0m\u001b[0;34m,\u001b[0m\u001b[0;34m[\u001b[0m\u001b[0;34m'Sex'\u001b[0m\u001b[0;34m,\u001b[0m\u001b[0;34m'Age'\u001b[0m\u001b[0;34m,\u001b[0m\u001b[0;34m'Title'\u001b[0m\u001b[0;34m]\u001b[0m\u001b[0;34m]\u001b[0m \u001b[0;34m=\u001b[0m \u001b[0;34m[\u001b[0m\u001b[0;34m'male'\u001b[0m\u001b[0;34m,\u001b[0m\u001b[0;36m28.0\u001b[0m\u001b[0;34m,\u001b[0m\u001b[0;34m'Mr'\u001b[0m\u001b[0;34m]\u001b[0m\u001b[0;34m\u001b[0m\u001b[0;34m\u001b[0m\u001b[0m\n\u001b[0m",
      "\u001b[0;32m~/opt/anaconda3/lib/python3.8/site-packages/pandas/core/frame.py\u001b[0m in \u001b[0;36m__getitem__\u001b[0;34m(self, key)\u001b[0m\n\u001b[1;32m   2900\u001b[0m             \u001b[0;32mif\u001b[0m \u001b[0mself\u001b[0m\u001b[0;34m.\u001b[0m\u001b[0mcolumns\u001b[0m\u001b[0;34m.\u001b[0m\u001b[0mnlevels\u001b[0m \u001b[0;34m>\u001b[0m \u001b[0;36m1\u001b[0m\u001b[0;34m:\u001b[0m\u001b[0;34m\u001b[0m\u001b[0;34m\u001b[0m\u001b[0m\n\u001b[1;32m   2901\u001b[0m                 \u001b[0;32mreturn\u001b[0m \u001b[0mself\u001b[0m\u001b[0;34m.\u001b[0m\u001b[0m_getitem_multilevel\u001b[0m\u001b[0;34m(\u001b[0m\u001b[0mkey\u001b[0m\u001b[0;34m)\u001b[0m\u001b[0;34m\u001b[0m\u001b[0;34m\u001b[0m\u001b[0m\n\u001b[0;32m-> 2902\u001b[0;31m             \u001b[0mindexer\u001b[0m \u001b[0;34m=\u001b[0m \u001b[0mself\u001b[0m\u001b[0;34m.\u001b[0m\u001b[0mcolumns\u001b[0m\u001b[0;34m.\u001b[0m\u001b[0mget_loc\u001b[0m\u001b[0;34m(\u001b[0m\u001b[0mkey\u001b[0m\u001b[0;34m)\u001b[0m\u001b[0;34m\u001b[0m\u001b[0;34m\u001b[0m\u001b[0m\n\u001b[0m\u001b[1;32m   2903\u001b[0m             \u001b[0;32mif\u001b[0m \u001b[0mis_integer\u001b[0m\u001b[0;34m(\u001b[0m\u001b[0mindexer\u001b[0m\u001b[0;34m)\u001b[0m\u001b[0;34m:\u001b[0m\u001b[0;34m\u001b[0m\u001b[0;34m\u001b[0m\u001b[0m\n\u001b[1;32m   2904\u001b[0m                 \u001b[0mindexer\u001b[0m \u001b[0;34m=\u001b[0m \u001b[0;34m[\u001b[0m\u001b[0mindexer\u001b[0m\u001b[0;34m]\u001b[0m\u001b[0;34m\u001b[0m\u001b[0;34m\u001b[0m\u001b[0m\n",
      "\u001b[0;32m~/opt/anaconda3/lib/python3.8/site-packages/pandas/core/indexes/base.py\u001b[0m in \u001b[0;36mget_loc\u001b[0;34m(self, key, method, tolerance)\u001b[0m\n\u001b[1;32m   2895\u001b[0m                 \u001b[0;32mreturn\u001b[0m \u001b[0mself\u001b[0m\u001b[0;34m.\u001b[0m\u001b[0m_engine\u001b[0m\u001b[0;34m.\u001b[0m\u001b[0mget_loc\u001b[0m\u001b[0;34m(\u001b[0m\u001b[0mcasted_key\u001b[0m\u001b[0;34m)\u001b[0m\u001b[0;34m\u001b[0m\u001b[0;34m\u001b[0m\u001b[0m\n\u001b[1;32m   2896\u001b[0m             \u001b[0;32mexcept\u001b[0m \u001b[0mKeyError\u001b[0m \u001b[0;32mas\u001b[0m \u001b[0merr\u001b[0m\u001b[0;34m:\u001b[0m\u001b[0;34m\u001b[0m\u001b[0;34m\u001b[0m\u001b[0m\n\u001b[0;32m-> 2897\u001b[0;31m                 \u001b[0;32mraise\u001b[0m \u001b[0mKeyError\u001b[0m\u001b[0;34m(\u001b[0m\u001b[0mkey\u001b[0m\u001b[0;34m)\u001b[0m \u001b[0;32mfrom\u001b[0m \u001b[0merr\u001b[0m\u001b[0;34m\u001b[0m\u001b[0;34m\u001b[0m\u001b[0m\n\u001b[0m\u001b[1;32m   2898\u001b[0m \u001b[0;34m\u001b[0m\u001b[0m\n\u001b[1;32m   2899\u001b[0m         \u001b[0;32mif\u001b[0m \u001b[0mtolerance\u001b[0m \u001b[0;32mis\u001b[0m \u001b[0;32mnot\u001b[0m \u001b[0;32mNone\u001b[0m\u001b[0;34m:\u001b[0m\u001b[0;34m\u001b[0m\u001b[0;34m\u001b[0m\u001b[0m\n",
      "\u001b[0;31mKeyError\u001b[0m: 'Surname'"
     ]
    }
   ],
   "source": [
    "df.loc[(df['Survived'].isnull()) & (df['Surname'].apply(lambda x:x in Dead_list)),['Sex','Age','Title']] = ['male',28.0,'Mr']"
   ]
  },
  {
   "cell_type": "code",
   "execution_count": 98,
   "metadata": {},
   "outputs": [
    {
     "name": "stdout",
     "output_type": "stream",
     "text": [
      "<class 'pandas.core.frame.DataFrame'>\n",
      "RangeIndex: 1309 entries, 0 to 1308\n",
      "Data columns (total 12 columns):\n",
      " #   Column       Non-Null Count  Dtype  \n",
      "---  ------       --------------  -----  \n",
      " 0   PassengerId  1309 non-null   int64  \n",
      " 1   Survived     891 non-null    float64\n",
      " 2   Pclass       1309 non-null   int64  \n",
      " 3   Name         1309 non-null   object \n",
      " 4   Sex          1309 non-null   object \n",
      " 5   Age          1046 non-null   float64\n",
      " 6   SibSp        1309 non-null   int64  \n",
      " 7   Parch        1309 non-null   int64  \n",
      " 8   Ticket       1309 non-null   object \n",
      " 9   Fare         1308 non-null   float64\n",
      " 10  Cabin        295 non-null    object \n",
      " 11  Embarked     1307 non-null   object \n",
      "dtypes: float64(3), int64(4), object(5)\n",
      "memory usage: 122.8+ KB\n"
     ]
    },
    {
     "data": {
      "image/png": "[encoded data removed]",
      "text/plain": [
       "<Figure size 432x288 with 1 Axes>"
      ]
     },
     "metadata": {
      "needs_background": "light"
     },
     "output_type": "display_data"
    },
    {
     "data": {
      "image/png": "[encoded data removed]",
      "text/plain": [
       "<Figure size 484x216 with 1 Axes>"
      ]
     },
     "metadata": {
      "needs_background": "light"
     },
     "output_type": "display_data"
    },
    {
     "name": "stdout",
     "output_type": "stream",
     "text": [
      "1.000000    113\n",
      "0.000000     32\n",
      "0.750000      2\n",
      "0.333333      1\n",
      "0.142857      1\n",
      "0.500000      1\n",
      "Name: Survived, dtype: int64\n",
      "0.000000    115\n",
      "1.000000     21\n",
      "0.500000      6\n",
      "0.333333      2\n",
      "0.250000      1\n",
      "Name: Survived, dtype: int64\n",
      "Dead_list =  {'Sage', 'Cacic', 'Oreskovic', 'Caram', 'Lefebre', 'Johnston', 'Zabour', 'Barbara', 'Rosblom', 'Skoog', 'Strom', 'Palsson', 'Vander Planke', 'Ford', 'Arnold-Franchi', 'Goodwin', 'Lobb', 'Robins', 'Canavan', 'Boulos', 'Ilmakangas', 'Jussila', 'Turpin', 'Elias', 'Danbom', 'Rice', 'Bourke', 'Attalah', 'Panula', 'Olsson', 'Lahtinen', 'Van Impe'}\n",
      "Survived_list =  {'Greenfield', 'Nakid', 'Goldenberg', 'Bradley', 'Daly', 'Duff Gordon', 'Beane', 'McCoy', 'Chambers', 'Moubarek', 'Taylor', 'Kimball', 'Cardeza', 'Jussila', 'Frauenthal', 'Harder', 'Jonsson', 'Frolicher-Stehli', 'Dick', 'Beckwith', 'Bishop'}\n"
     ]
    },
    {
     "data": {
      "image/png": "[encoded data removed]",
      "text/plain": [
       "<Figure size 432x288 with 1 Axes>"
      ]
     },
     "metadata": {
      "needs_background": "light"
     },
     "output_type": "display_data"
    },
    {
     "data": {
      "image/png": "[encoded data removed]",
      "text/plain": [
       "<Figure size 432x288 with 1 Axes>"
      ]
     },
     "metadata": {
      "needs_background": "light"
     },
     "output_type": "display_data"
    },
    {
     "data": {
      "image/png": "[encoded data removed]",
      "text/plain": [
       "<Figure size 432x288 with 1 Axes>"
      ]
     },
     "metadata": {
      "needs_background": "light"
     },
     "output_type": "display_data"
    },
    {
     "name": "stderr",
     "output_type": "stream",
     "text": [
      "/Users/katoutakaaki/opt/anaconda3/lib/python3.8/site-packages/sklearn/feature_selection/_univariate_selection.py:114: UserWarning: Features [23] are constant.\n",
      "  warnings.warn(\"Features %s are constant.\" % constant_features_idx,\n",
      "/Users/katoutakaaki/opt/anaconda3/lib/python3.8/site-packages/sklearn/feature_selection/_univariate_selection.py:116: RuntimeWarning: invalid value encountered in true_divide\n",
      "  f = msb / msw\n"
     ]
    },
    {
     "name": "stdout",
     "output_type": "stream",
     "text": [
      "mean_score =  0.8395006242197255\n",
      "mean_std =  0.049770983038016456\n",
      "No1 Pclass = True\n",
      "No2 Age = True\n",
      "No3 Fare = True\n",
      "No4 Family_label = True\n",
      "No5 Ticket_label = True\n",
      "No6 Sex_female = True\n",
      "No7 Sex_male = True\n",
      "No8 Embarked_C = True\n",
      "No9 Embarked_Q = False\n",
      "No10 Embarked_S = True\n",
      "No11 Title_Master = True\n",
      "No12 Title_Miss = True\n",
      "No13 Title_Mr = True\n",
      "No14 Title_Mrs = True\n",
      "No15 Title_Officer = False\n",
      "No16 Title_Royalty = True\n",
      "No17 Cabin_label_A = False\n",
      "No18 Cabin_label_B = True\n",
      "No19 Cabin_label_C = True\n",
      "No20 Cabin_label_D = True\n",
      "No21 Cabin_label_E = True\n",
      "No22 Cabin_label_F = True\n",
      "No23 Cabin_label_G = False\n",
      "No24 Cabin_label_T = False\n",
      "No25 Cabin_label_U = True\n",
      "X.shape=(891, 25), X_selected.shape=(891, 20)\n"
     ]
    }
   ],
   "source": [
    "import numpy as np\n",
    "import pandas as pd\n",
    "import matplotlib.pyplot as plt\n",
    "import seaborn as sns\n",
    "\n",
    "# データセットの読み込み\n",
    "train_data = pd.read_csv('train.csv')\n",
    "test_data = pd.read_csv('test.csv')\n",
    "\n",
    "# train_dataとtest_dataの連結\n",
    "test_data['Survived'] = np.nan\n",
    "df = pd.concat([train_data, test_data], ignore_index=True, sort=False)\n",
    "\n",
    "# dfの情報\n",
    "df.info()\n",
    "\n",
    "# Sexと生存率の関係 \n",
    "sns.barplot(x='Sex', y='Survived', data=df, palette='Set3')\n",
    "plt.show()\n",
    "\n",
    "# ------------ Age ------------\n",
    "# Age を Pclass, Sex, Parch, SibSp からランダムフォレストで推定\n",
    "from sklearn.ensemble import RandomForestRegressor\n",
    "\n",
    "# 推定に使用する項目を指定\n",
    "age_df = df[['Age', 'Pclass','Sex','Parch','SibSp']]\n",
    "\n",
    "# ラベル特徴量をワンホットエンコーディング\n",
    "age_df=pd.get_dummies(age_df)\n",
    "\n",
    "# 学習データとテストデータに分離し、numpyに変換\n",
    "known_age = age_df[age_df.Age.notnull()].values  \n",
    "unknown_age = age_df[age_df.Age.isnull()].values\n",
    "\n",
    "# 学習データをX, yに分離\n",
    "X = known_age[:, 1:]  \n",
    "y = known_age[:, 0]\n",
    "\n",
    "# ランダムフォレストで推定モデルを構築\n",
    "rfr = RandomForestRegressor(random_state=0, n_estimators=100, n_jobs=-1)\n",
    "rfr.fit(X, y)\n",
    "\n",
    "# 推定モデルを使って、テストデータのAgeを予測し、補完\n",
    "predictedAges = rfr.predict(unknown_age[:, 1::])\n",
    "df.loc[(df.Age.isnull()), 'Age'] = predictedAges \n",
    "\n",
    "# 年齢別生存曲線と死亡曲線\n",
    "facet = sns.FacetGrid(df[0:890], hue=\"Survived\",aspect=2)\n",
    "facet.map(sns.kdeplot,'Age',shade= True)\n",
    "facet.set(xlim=(0, df.loc[0:890,'Age'].max()))\n",
    "facet.add_legend()\n",
    "plt.show()\n",
    "\n",
    "# ------------ Name --------------\n",
    "# Nameから敬称(Title)を抽出し、グルーピング\n",
    "df['Title'] = df['Name'].map(lambda x: x.split(', ')[1].split('. ')[0])\n",
    "df['Title'].replace(['Capt', 'Col', 'Major', 'Dr', 'Rev'], 'Officer', inplace=True)\n",
    "df['Title'].replace(['Don', 'Sir',  'the Countess', 'Lady', 'Dona'], 'Royalty', inplace=True)\n",
    "df['Title'].replace(['Mme', 'Ms'], 'Mrs', inplace=True)\n",
    "df['Title'].replace(['Mlle'], 'Miss', inplace=True)\n",
    "df['Title'].replace(['Jonkheer'], 'Master', inplace=True)\n",
    "sns.barplot(x='Title', y='Survived', data=df, palette='Set3')\n",
    "\n",
    "# ------------ Surname ------------\n",
    "# NameからSurname(苗字)を抽出\n",
    "df['Surname'] = df['Name'].map(lambda name:name.split(',')[0].strip())\n",
    "\n",
    "# 同じSurname(苗字)の出現頻度をカウント(出現回数が2以上なら家族)\n",
    "df['FamilyGroup'] = df['Surname'].map(df['Surname'].value_counts()) \n",
    "\n",
    "# 家族で16才以下または女性の生存率\n",
    "Female_Child_Group=df.loc[(df['FamilyGroup']>=2) & ((df['Age']<=16) | (df['Sex']=='female'))]\n",
    "Female_Child_Group=Female_Child_Group.groupby('Surname')['Survived'].mean()\n",
    "print(Female_Child_Group.value_counts())\n",
    "\n",
    "# 家族で16才超えかつ男性の生存率\n",
    "Male_Adult_Group=df.loc[(df['FamilyGroup']>=2) & (df['Age']>16) & (df['Sex']=='male')]\n",
    "Male_Adult_List=Male_Adult_Group.groupby('Surname')['Survived'].mean()\n",
    "print(Male_Adult_List.value_counts())\n",
    "\n",
    "# デッドリストとサバイブリストの作成\n",
    "Dead_list=set(Female_Child_Group[Female_Child_Group.apply(lambda x:x==0)].index)\n",
    "Survived_list=set(Male_Adult_List[Male_Adult_List.apply(lambda x:x==1)].index)\n",
    "\n",
    "# デッドリストとサバイブリストの表示\n",
    "print('Dead_list = ', Dead_list)\n",
    "print('Survived_list = ', Survived_list)\n",
    "\n",
    "# デッドリストとサバイブリストをSex, Age, Title に反映させる\n",
    "df.loc[(df['Survived'].isnull()) & (df['Surname'].apply(lambda x:x in Dead_list)),\\\n",
    "             ['Sex','Age','Title']] = ['male',28.0,'Mr']\n",
    "df.loc[(df['Survived'].isnull()) & (df['Surname'].apply(lambda x:x in Survived_list)),\\\n",
    "             ['Sex','Age','Title']] = ['female',5.0,'Mrs']\n",
    "\n",
    "# ----------- Fare -------------\n",
    "# 欠損値を Embarked='S', Pclass=3 の平均値で補完\n",
    "fare=df.loc[(df['Embarked'] == 'S') & (df['Pclass'] == 3), 'Fare'].median()\n",
    "df['Fare']=df['Fare'].fillna(fare)\n",
    "\n",
    "# ----------- Family -------------\n",
    "# Family = SibSp + Parch + 1 を特徴量とし、グルーピング\n",
    "df['Family']=df['SibSp']+df['Parch']+1\n",
    "df.loc[(df['Family']>=2) & (df['Family']<=4), 'Family_label'] = 2\n",
    "df.loc[(df['Family']>=5) & (df['Family']<=7) | (df['Family']==1), 'Family_label'] = 1  # == に注意\n",
    "df.loc[(df['Family']>=8), 'Family_label'] = 0\n",
    "\n",
    "# ----------- Ticket ----------------\n",
    "# 同一Ticketナンバーの人が何人いるかを特徴量として抽出\n",
    "Ticket_Count = dict(df['Ticket'].value_counts())\n",
    "df['TicketGroup'] = df['Ticket'].map(Ticket_Count)\n",
    "sns.barplot(x='TicketGroup', y='Survived', data=df, palette='Set3')\n",
    "plt.show()\n",
    "\n",
    "# 生存率で3つにグルーピング\n",
    "df.loc[(df['TicketGroup']>=2) & (df['TicketGroup']<=4), 'Ticket_label'] = 2\n",
    "df.loc[(df['TicketGroup']>=5) & (df['TicketGroup']<=8) | (df['TicketGroup']==1), 'Ticket_label'] = 1  \n",
    "df.loc[(df['TicketGroup']>=11), 'Ticket_label'] = 0\n",
    "sns.barplot(x='Ticket_label', y='Survived', data=df, palette='Set3')\n",
    "plt.show()\n",
    "\n",
    "# ------------- Cabin ----------------\n",
    "# Cabinの先頭文字を特徴量とする(欠損値は U )\n",
    "df['Cabin'] = df['Cabin'].fillna('Unknown')\n",
    "df['Cabin_label']=df['Cabin'].str.get(0)\n",
    "sns.barplot(x='Cabin_label', y='Survived', data=df, palette='Set3')\n",
    "plt.show()\n",
    "\n",
    "# ---------- Embarked ---------------\n",
    "# 欠損値をSで補完\n",
    "df['Embarked'] = df['Embarked'].fillna('S') \n",
    "\n",
    "# ------------- 前処理 ---------------\n",
    "# 推定に使用する項目を指定\n",
    "df = df[['Survived','Pclass','Sex','Age','Fare','Embarked','Title','Family_label','Cabin_label','Ticket_label']]\n",
    "\n",
    "# ラベル特徴量をワンホットエンコーディング\n",
    "df = pd.get_dummies(df)\n",
    "\n",
    "# データセットを trainとtestに分割\n",
    "train = df[df['Survived'].notnull()]\n",
    "test = df[df['Survived'].isnull()].drop('Survived',axis=1)\n",
    "\n",
    "# データフレームをnumpyに変換\n",
    "X = train.values[:,1:]  \n",
    "y = train.values[:,0] \n",
    "test_x = test.values\n",
    "\n",
    "# ----------- 推定モデル構築 ---------------\n",
    "from sklearn.feature_selection import SelectKBest\n",
    "from sklearn.ensemble import RandomForestClassifier\n",
    "from sklearn.pipeline import make_pipeline\n",
    "from sklearn.model_selection import cross_validate\n",
    "\n",
    "# 採用する特徴量を25個から20個に絞り込む\n",
    "select = SelectKBest(k = 20)\n",
    "\n",
    "clf = RandomForestClassifier(random_state = 10, \n",
    "                             warm_start = True,  # 既にフィットしたモデルに学習を追加 \n",
    "                             n_estimators = 26,\n",
    "                             max_depth = 6, \n",
    "                             max_features = 'sqrt')\n",
    "pipeline = make_pipeline(select, clf)\n",
    "pipeline.fit(X, y)\n",
    "\n",
    "# フィット結果の表示\n",
    "cv_result = cross_validate(pipeline, X, y, cv= 10)\n",
    "print('mean_score = ', np.mean(cv_result['test_score']))\n",
    "print('mean_std = ', np.std(cv_result['test_score']))\n",
    "\n",
    "# --------　採用した特徴量 ---------------\n",
    "# 採用の可否状況\n",
    "mask= select.get_support()\n",
    "\n",
    "# 項目のリスト\n",
    "list_col = list(df.columns[1:])\n",
    "\n",
    "# 項目別の採用可否の一覧表\n",
    "for i, j in enumerate(list_col):\n",
    "    print('No'+str(i+1), j,'=',  mask[i])\n",
    "\n",
    "# シェイプの確認\n",
    "X_selected = select.transform(X)\n",
    "print('X.shape={}, X_selected.shape={}'.format(X.shape, X_selected.shape))\n",
    "\n",
    "# ----- Submit dataの作成　------- \n",
    "PassengerId=test_data['PassengerId']\n",
    "predictions = pipeline.predict(test_x)\n",
    "submission = pd.DataFrame({\"PassengerId\": PassengerId, \"Survived\": predictions.astype(np.int32)})\n",
    "submission.to_csv(\"my_submission.csv\", index=False)\n"
   ]
  },
  {
   "cell_type": "code",
   "execution_count": 101,
   "metadata": {},
   "outputs": [
    {
     "name": "stdout",
     "output_type": "stream",
     "text": [
      "Requirement already satisfied: optuna in /Users/katoutakaaki/opt/anaconda3/lib/python3.8/site-packages (2.9.1)\n",
      "Requirement already satisfied: numpy in /Users/katoutakaaki/opt/anaconda3/lib/python3.8/site-packages (from optuna) (1.19.2)\n",
      "Requirement already satisfied: tqdm in /Users/katoutakaaki/opt/anaconda3/lib/python3.8/site-packages (from optuna) (4.50.2)\n",
      "Requirement already satisfied: cmaes>=0.8.2 in /Users/katoutakaaki/opt/anaconda3/lib/python3.8/site-packages (from optuna) (0.8.2)\n",
      "Requirement already satisfied: PyYAML in /Users/katoutakaaki/opt/anaconda3/lib/python3.8/site-packages (from optuna) (5.3.1)\n",
      "Requirement already satisfied: alembic in /Users/katoutakaaki/opt/anaconda3/lib/python3.8/site-packages (from optuna) (1.6.5)\n",
      "Requirement already satisfied: cliff in /Users/katoutakaaki/opt/anaconda3/lib/python3.8/site-packages (from optuna) (3.8.0)\n",
      "Requirement already satisfied: packaging>=20.0 in /Users/katoutakaaki/opt/anaconda3/lib/python3.8/site-packages (from optuna) (20.4)\n",
      "Requirement already satisfied: scipy!=1.4.0 in /Users/katoutakaaki/opt/anaconda3/lib/python3.8/site-packages (from optuna) (1.5.2)\n",
      "Requirement already satisfied: colorlog in /Users/katoutakaaki/opt/anaconda3/lib/python3.8/site-packages (from optuna) (5.0.1)\n",
      "Requirement already satisfied: sqlalchemy>=1.1.0 in /Users/katoutakaaki/opt/anaconda3/lib/python3.8/site-packages (from optuna) (1.3.20)\n",
      "Requirement already satisfied: Mako in /Users/katoutakaaki/opt/anaconda3/lib/python3.8/site-packages (from alembic->optuna) (1.1.4)\n",
      "Requirement already satisfied: python-editor>=0.3 in /Users/katoutakaaki/opt/anaconda3/lib/python3.8/site-packages (from alembic->optuna) (1.0.4)\n",
      "Requirement already satisfied: python-dateutil in /Users/katoutakaaki/opt/anaconda3/lib/python3.8/site-packages (from alembic->optuna) (2.8.1)\n",
      "Requirement already satisfied: pyparsing>=2.1.0 in /Users/katoutakaaki/opt/anaconda3/lib/python3.8/site-packages (from cliff->optuna) (2.4.7)\n",
      "Requirement already satisfied: cmd2>=1.0.0 in /Users/katoutakaaki/opt/anaconda3/lib/python3.8/site-packages (from cliff->optuna) (2.1.2)\n",
      "Requirement already satisfied: pbr!=2.1.0,>=2.0.0 in /Users/katoutakaaki/opt/anaconda3/lib/python3.8/site-packages (from cliff->optuna) (5.6.0)\n",
      "Requirement already satisfied: PrettyTable>=0.7.2 in /Users/katoutakaaki/opt/anaconda3/lib/python3.8/site-packages (from cliff->optuna) (2.1.0)\n",
      "Requirement already satisfied: stevedore>=2.0.1 in /Users/katoutakaaki/opt/anaconda3/lib/python3.8/site-packages (from cliff->optuna) (3.3.0)\n",
      "Requirement already satisfied: six in /Users/katoutakaaki/opt/anaconda3/lib/python3.8/site-packages (from packaging>=20.0->optuna) (1.15.0)\n",
      "Requirement already satisfied: MarkupSafe>=0.9.2 in /Users/katoutakaaki/opt/anaconda3/lib/python3.8/site-packages (from Mako->alembic->optuna) (1.1.1)\n",
      "Requirement already satisfied: pyperclip>=1.6 in /Users/katoutakaaki/opt/anaconda3/lib/python3.8/site-packages (from cmd2>=1.0.0->cliff->optuna) (1.8.2)\n",
      "Requirement already satisfied: wcwidth>=0.1.7 in /Users/katoutakaaki/opt/anaconda3/lib/python3.8/site-packages (from cmd2>=1.0.0->cliff->optuna) (0.2.5)\n",
      "Requirement already satisfied: colorama>=0.3.7 in /Users/katoutakaaki/opt/anaconda3/lib/python3.8/site-packages (from cmd2>=1.0.0->cliff->optuna) (0.4.4)\n",
      "Requirement already satisfied: attrs>=16.3.0 in /Users/katoutakaaki/opt/anaconda3/lib/python3.8/site-packages (from cmd2>=1.0.0->cliff->optuna) (20.3.0)\n"
     ]
    }
   ],
   "source": [
    "!pip install optuna"
   ]
  },
  {
   "cell_type": "code",
   "execution_count": 102,
   "metadata": {},
   "outputs": [],
   "source": [
    "# 前処理用ライブラリ\n",
    "from sklearn.preprocessing import StandardScaler\n",
    "\n",
    "# パラメータチューニング用ライブラリ Optuna\n",
    "import optuna\n",
    "from optuna.samplers import TPESampler\n",
    "# ログがうるさいのできる\n",
    "optuna.logging.set_verbosity(optuna.logging.WARNING)\n",
    "\n",
    "# 機械学習ライブラリ\n",
    "import xgboost as xgb\n",
    "from sklearn.model_selection import train_test_split\n",
    "from sklearn.preprocessing import StandardScaler\n",
    "from sklearn.metrics import accuracy_score,f1_score\n",
    "\n",
    "# Warningがうるさいのできる"
   ]
  },
  {
   "cell_type": "code",
   "execution_count": 103,
   "metadata": {},
   "outputs": [],
   "source": [
    "class Optimizer:\n",
    "    def __init__(self, metric, trials=50):\n",
    "        self.metric = metric\n",
    "        self.trials = trials\n",
    "        self.sampler = TPESampler(seed=42)\n",
    "        \n",
    "    def objective(self, trial):\n",
    "        model = create_model(trial)\n",
    "        model.fit(X_train, y_train)\n",
    "        preds = model.predict(X_valid)\n",
    "        if self.metric == 'acc':\n",
    "            return accuracy_score(y_valid, preds)\n",
    "        else:\n",
    "            return f1_score(y_valid, preds)\n",
    "            \n",
    "    def optimize(self):\n",
    "        study = optuna.create_study(direction=\"maximize\", sampler=self.sampler)\n",
    "        study.optimize(self.objective, n_trials=self.trials)\n",
    "        return study.best_params\n",
    "    \n",
    "def create_model(trial):\n",
    "    max_depth = trial.suggest_int(\"max_depth\", 2, 6)\n",
    "    n_estimators = trial.suggest_int(\"n_estimators\", 1, 150)\n",
    "    learning_rate = trial.suggest_uniform('learning_rate', 0.0000001, 1)\n",
    "    gamma = trial.suggest_uniform('gamma', 0.0000001, 1)\n",
    "    subsample = trial.suggest_uniform('subsample', 0.0001, 1.0)\n",
    "    model = xgb.XGBClassifier(\n",
    "        learning_rate=learning_rate, \n",
    "        n_estimators=n_estimators, \n",
    "        max_depth=max_depth, \n",
    "        gamma=gamma, \n",
    "        subsample=subsample,\n",
    "        silent=True,\n",
    "        verbosity = 0,\n",
    "        random_state=42\n",
    "    )\n",
    "    return model"
   ]
  },
  {
   "cell_type": "code",
   "execution_count": 108,
   "metadata": {},
   "outputs": [
    {
     "name": "stdout",
     "output_type": "stream",
     "text": [
      "<class 'pandas.core.frame.DataFrame'>\n",
      "RangeIndex: 1309 entries, 0 to 1308\n",
      "Data columns (total 12 columns):\n",
      " #   Column       Non-Null Count  Dtype  \n",
      "---  ------       --------------  -----  \n",
      " 0   PassengerId  1309 non-null   int64  \n",
      " 1   Survived     891 non-null    float64\n",
      " 2   Pclass       1309 non-null   int64  \n",
      " 3   Name         1309 non-null   object \n",
      " 4   Sex          1309 non-null   object \n",
      " 5   Age          1046 non-null   float64\n",
      " 6   SibSp        1309 non-null   int64  \n",
      " 7   Parch        1309 non-null   int64  \n",
      " 8   Ticket       1309 non-null   object \n",
      " 9   Fare         1308 non-null   float64\n",
      " 10  Cabin        295 non-null    object \n",
      " 11  Embarked     1307 non-null   object \n",
      "dtypes: float64(3), int64(4), object(5)\n",
      "memory usage: 122.8+ KB\n"
     ]
    },
    {
     "data": {
      "image/png": "[encoded data removed]",
      "text/plain": [
       "<Figure size 432x288 with 1 Axes>"
      ]
     },
     "metadata": {
      "needs_background": "light"
     },
     "output_type": "display_data"
    },
    {
     "data": {
      "image/png": "[encoded data removed]",
      "text/plain": [
       "<Figure size 484x216 with 1 Axes>"
      ]
     },
     "metadata": {
      "needs_background": "light"
     },
     "output_type": "display_data"
    },
    {
     "name": "stdout",
     "output_type": "stream",
     "text": [
      "1.000000    113\n",
      "0.000000     32\n",
      "0.750000      2\n",
      "0.333333      1\n",
      "0.142857      1\n",
      "0.500000      1\n",
      "Name: Survived, dtype: int64\n",
      "0.000000    115\n",
      "1.000000     21\n",
      "0.500000      6\n",
      "0.333333      2\n",
      "0.250000      1\n",
      "Name: Survived, dtype: int64\n",
      "Dead_list =  {'Sage', 'Cacic', 'Oreskovic', 'Caram', 'Lefebre', 'Johnston', 'Zabour', 'Barbara', 'Rosblom', 'Skoog', 'Strom', 'Palsson', 'Vander Planke', 'Ford', 'Arnold-Franchi', 'Goodwin', 'Lobb', 'Robins', 'Canavan', 'Boulos', 'Ilmakangas', 'Jussila', 'Turpin', 'Elias', 'Danbom', 'Rice', 'Bourke', 'Attalah', 'Panula', 'Olsson', 'Lahtinen', 'Van Impe'}\n",
      "Survived_list =  {'Greenfield', 'Nakid', 'Goldenberg', 'Bradley', 'Daly', 'Duff Gordon', 'Beane', 'McCoy', 'Chambers', 'Moubarek', 'Taylor', 'Kimball', 'Cardeza', 'Jussila', 'Frauenthal', 'Harder', 'Jonsson', 'Frolicher-Stehli', 'Dick', 'Beckwith', 'Bishop'}\n"
     ]
    },
    {
     "data": {
      "image/png": "[encoded data removed]",
      "text/plain": [
       "<Figure size 432x288 with 1 Axes>"
      ]
     },
     "metadata": {
      "needs_background": "light"
     },
     "output_type": "display_data"
    },
    {
     "data": {
      "image/png": "[encoded data removed]",
      "text/plain": [
       "<Figure size 432x288 with 1 Axes>"
      ]
     },
     "metadata": {
      "needs_background": "light"
     },
     "output_type": "display_data"
    },
    {
     "data": {
      "image/png": "[encoded data removed]",
      "text/plain": [
       "<Figure size 432x288 with 1 Axes>"
      ]
     },
     "metadata": {
      "needs_background": "light"
     },
     "output_type": "display_data"
    },
    {
     "name": "stderr",
     "output_type": "stream",
     "text": [
      "/Users/katoutakaaki/opt/anaconda3/lib/python3.8/site-packages/xgboost/sklearn.py:888: UserWarning: The use of label encoder in XGBClassifier is deprecated and will be removed in a future release. To remove this warning, do the following: 1) Pass option use_label_encoder=False when constructing XGBClassifier object; and 2) Encode your labels (y) as integers starting with 0, i.e. 0, 1, 2, ..., [num_class - 1].\n",
      "  warnings.warn(label_encoder_deprecation_msg, UserWarning)\n",
      "/Users/katoutakaaki/opt/anaconda3/lib/python3.8/site-packages/xgboost/sklearn.py:888: UserWarning: The use of label encoder in XGBClassifier is deprecated and will be removed in a future release. To remove this warning, do the following: 1) Pass option use_label_encoder=False when constructing XGBClassifier object; and 2) Encode your labels (y) as integers starting with 0, i.e. 0, 1, 2, ..., [num_class - 1].\n",
      "  warnings.warn(label_encoder_deprecation_msg, UserWarning)\n",
      "/Users/katoutakaaki/opt/anaconda3/lib/python3.8/site-packages/xgboost/sklearn.py:888: UserWarning: The use of label encoder in XGBClassifier is deprecated and will be removed in a future release. To remove this warning, do the following: 1) Pass option use_label_encoder=False when constructing XGBClassifier object; and 2) Encode your labels (y) as integers starting with 0, i.e. 0, 1, 2, ..., [num_class - 1].\n",
      "  warnings.warn(label_encoder_deprecation_msg, UserWarning)\n",
      "/Users/katoutakaaki/opt/anaconda3/lib/python3.8/site-packages/xgboost/sklearn.py:888: UserWarning: The use of label encoder in XGBClassifier is deprecated and will be removed in a future release. To remove this warning, do the following: 1) Pass option use_label_encoder=False when constructing XGBClassifier object; and 2) Encode your labels (y) as integers starting with 0, i.e. 0, 1, 2, ..., [num_class - 1].\n",
      "  warnings.warn(label_encoder_deprecation_msg, UserWarning)\n",
      "/Users/katoutakaaki/opt/anaconda3/lib/python3.8/site-packages/xgboost/sklearn.py:888: UserWarning: The use of label encoder in XGBClassifier is deprecated and will be removed in a future release. To remove this warning, do the following: 1) Pass option use_label_encoder=False when constructing XGBClassifier object; and 2) Encode your labels (y) as integers starting with 0, i.e. 0, 1, 2, ..., [num_class - 1].\n",
      "  warnings.warn(label_encoder_deprecation_msg, UserWarning)\n",
      "/Users/katoutakaaki/opt/anaconda3/lib/python3.8/site-packages/xgboost/sklearn.py:888: UserWarning: The use of label encoder in XGBClassifier is deprecated and will be removed in a future release. To remove this warning, do the following: 1) Pass option use_label_encoder=False when constructing XGBClassifier object; and 2) Encode your labels (y) as integers starting with 0, i.e. 0, 1, 2, ..., [num_class - 1].\n",
      "  warnings.warn(label_encoder_deprecation_msg, UserWarning)\n",
      "/Users/katoutakaaki/opt/anaconda3/lib/python3.8/site-packages/xgboost/sklearn.py:888: UserWarning: The use of label encoder in XGBClassifier is deprecated and will be removed in a future release. To remove this warning, do the following: 1) Pass option use_label_encoder=False when constructing XGBClassifier object; and 2) Encode your labels (y) as integers starting with 0, i.e. 0, 1, 2, ..., [num_class - 1].\n",
      "  warnings.warn(label_encoder_deprecation_msg, UserWarning)\n",
      "/Users/katoutakaaki/opt/anaconda3/lib/python3.8/site-packages/xgboost/sklearn.py:888: UserWarning: The use of label encoder in XGBClassifier is deprecated and will be removed in a future release. To remove this warning, do the following: 1) Pass option use_label_encoder=False when constructing XGBClassifier object; and 2) Encode your labels (y) as integers starting with 0, i.e. 0, 1, 2, ..., [num_class - 1].\n",
      "  warnings.warn(label_encoder_deprecation_msg, UserWarning)\n",
      "/Users/katoutakaaki/opt/anaconda3/lib/python3.8/site-packages/xgboost/sklearn.py:888: UserWarning: The use of label encoder in XGBClassifier is deprecated and will be removed in a future release. To remove this warning, do the following: 1) Pass option use_label_encoder=False when constructing XGBClassifier object; and 2) Encode your labels (y) as integers starting with 0, i.e. 0, 1, 2, ..., [num_class - 1].\n",
      "  warnings.warn(label_encoder_deprecation_msg, UserWarning)\n",
      "/Users/katoutakaaki/opt/anaconda3/lib/python3.8/site-packages/xgboost/sklearn.py:888: UserWarning: The use of label encoder in XGBClassifier is deprecated and will be removed in a future release. To remove this warning, do the following: 1) Pass option use_label_encoder=False when constructing XGBClassifier object; and 2) Encode your labels (y) as integers starting with 0, i.e. 0, 1, 2, ..., [num_class - 1].\n",
      "  warnings.warn(label_encoder_deprecation_msg, UserWarning)\n",
      "/Users/katoutakaaki/opt/anaconda3/lib/python3.8/site-packages/xgboost/sklearn.py:888: UserWarning: The use of label encoder in XGBClassifier is deprecated and will be removed in a future release. To remove this warning, do the following: 1) Pass option use_label_encoder=False when constructing XGBClassifier object; and 2) Encode your labels (y) as integers starting with 0, i.e. 0, 1, 2, ..., [num_class - 1].\n",
      "  warnings.warn(label_encoder_deprecation_msg, UserWarning)\n",
      "/Users/katoutakaaki/opt/anaconda3/lib/python3.8/site-packages/xgboost/sklearn.py:888: UserWarning: The use of label encoder in XGBClassifier is deprecated and will be removed in a future release. To remove this warning, do the following: 1) Pass option use_label_encoder=False when constructing XGBClassifier object; and 2) Encode your labels (y) as integers starting with 0, i.e. 0, 1, 2, ..., [num_class - 1].\n",
      "  warnings.warn(label_encoder_deprecation_msg, UserWarning)\n",
      "/Users/katoutakaaki/opt/anaconda3/lib/python3.8/site-packages/xgboost/sklearn.py:888: UserWarning: The use of label encoder in XGBClassifier is deprecated and will be removed in a future release. To remove this warning, do the following: 1) Pass option use_label_encoder=False when constructing XGBClassifier object; and 2) Encode your labels (y) as integers starting with 0, i.e. 0, 1, 2, ..., [num_class - 1].\n",
      "  warnings.warn(label_encoder_deprecation_msg, UserWarning)\n",
      "/Users/katoutakaaki/opt/anaconda3/lib/python3.8/site-packages/xgboost/sklearn.py:888: UserWarning: The use of label encoder in XGBClassifier is deprecated and will be removed in a future release. To remove this warning, do the following: 1) Pass option use_label_encoder=False when constructing XGBClassifier object; and 2) Encode your labels (y) as integers starting with 0, i.e. 0, 1, 2, ..., [num_class - 1].\n",
      "  warnings.warn(label_encoder_deprecation_msg, UserWarning)\n",
      "/Users/katoutakaaki/opt/anaconda3/lib/python3.8/site-packages/xgboost/sklearn.py:888: UserWarning: The use of label encoder in XGBClassifier is deprecated and will be removed in a future release. To remove this warning, do the following: 1) Pass option use_label_encoder=False when constructing XGBClassifier object; and 2) Encode your labels (y) as integers starting with 0, i.e. 0, 1, 2, ..., [num_class - 1].\n",
      "  warnings.warn(label_encoder_deprecation_msg, UserWarning)\n",
      "/Users/katoutakaaki/opt/anaconda3/lib/python3.8/site-packages/xgboost/sklearn.py:888: UserWarning: The use of label encoder in XGBClassifier is deprecated and will be removed in a future release. To remove this warning, do the following: 1) Pass option use_label_encoder=False when constructing XGBClassifier object; and 2) Encode your labels (y) as integers starting with 0, i.e. 0, 1, 2, ..., [num_class - 1].\n",
      "  warnings.warn(label_encoder_deprecation_msg, UserWarning)\n",
      "/Users/katoutakaaki/opt/anaconda3/lib/python3.8/site-packages/xgboost/sklearn.py:888: UserWarning: The use of label encoder in XGBClassifier is deprecated and will be removed in a future release. To remove this warning, do the following: 1) Pass option use_label_encoder=False when constructing XGBClassifier object; and 2) Encode your labels (y) as integers starting with 0, i.e. 0, 1, 2, ..., [num_class - 1].\n",
      "  warnings.warn(label_encoder_deprecation_msg, UserWarning)\n",
      "/Users/katoutakaaki/opt/anaconda3/lib/python3.8/site-packages/xgboost/sklearn.py:888: UserWarning: The use of label encoder in XGBClassifier is deprecated and will be removed in a future release. To remove this warning, do the following: 1) Pass option use_label_encoder=False when constructing XGBClassifier object; and 2) Encode your labels (y) as integers starting with 0, i.e. 0, 1, 2, ..., [num_class - 1].\n",
      "  warnings.warn(label_encoder_deprecation_msg, UserWarning)\n",
      "/Users/katoutakaaki/opt/anaconda3/lib/python3.8/site-packages/xgboost/sklearn.py:888: UserWarning: The use of label encoder in XGBClassifier is deprecated and will be removed in a future release. To remove this warning, do the following: 1) Pass option use_label_encoder=False when constructing XGBClassifier object; and 2) Encode your labels (y) as integers starting with 0, i.e. 0, 1, 2, ..., [num_class - 1].\n",
      "  warnings.warn(label_encoder_deprecation_msg, UserWarning)\n",
      "/Users/katoutakaaki/opt/anaconda3/lib/python3.8/site-packages/xgboost/sklearn.py:888: UserWarning: The use of label encoder in XGBClassifier is deprecated and will be removed in a future release. To remove this warning, do the following: 1) Pass option use_label_encoder=False when constructing XGBClassifier object; and 2) Encode your labels (y) as integers starting with 0, i.e. 0, 1, 2, ..., [num_class - 1].\n",
      "  warnings.warn(label_encoder_deprecation_msg, UserWarning)\n",
      "/Users/katoutakaaki/opt/anaconda3/lib/python3.8/site-packages/xgboost/sklearn.py:888: UserWarning: The use of label encoder in XGBClassifier is deprecated and will be removed in a future release. To remove this warning, do the following: 1) Pass option use_label_encoder=False when constructing XGBClassifier object; and 2) Encode your labels (y) as integers starting with 0, i.e. 0, 1, 2, ..., [num_class - 1].\n",
      "  warnings.warn(label_encoder_deprecation_msg, UserWarning)\n",
      "/Users/katoutakaaki/opt/anaconda3/lib/python3.8/site-packages/xgboost/sklearn.py:888: UserWarning: The use of label encoder in XGBClassifier is deprecated and will be removed in a future release. To remove this warning, do the following: 1) Pass option use_label_encoder=False when constructing XGBClassifier object; and 2) Encode your labels (y) as integers starting with 0, i.e. 0, 1, 2, ..., [num_class - 1].\n",
      "  warnings.warn(label_encoder_deprecation_msg, UserWarning)\n",
      "/Users/katoutakaaki/opt/anaconda3/lib/python3.8/site-packages/xgboost/sklearn.py:888: UserWarning: The use of label encoder in XGBClassifier is deprecated and will be removed in a future release. To remove this warning, do the following: 1) Pass option use_label_encoder=False when constructing XGBClassifier object; and 2) Encode your labels (y) as integers starting with 0, i.e. 0, 1, 2, ..., [num_class - 1].\n",
      "  warnings.warn(label_encoder_deprecation_msg, UserWarning)\n",
      "/Users/katoutakaaki/opt/anaconda3/lib/python3.8/site-packages/xgboost/sklearn.py:888: UserWarning: The use of label encoder in XGBClassifier is deprecated and will be removed in a future release. To remove this warning, do the following: 1) Pass option use_label_encoder=False when constructing XGBClassifier object; and 2) Encode your labels (y) as integers starting with 0, i.e. 0, 1, 2, ..., [num_class - 1].\n",
      "  warnings.warn(label_encoder_deprecation_msg, UserWarning)\n",
      "/Users/katoutakaaki/opt/anaconda3/lib/python3.8/site-packages/xgboost/sklearn.py:888: UserWarning: The use of label encoder in XGBClassifier is deprecated and will be removed in a future release. To remove this warning, do the following: 1) Pass option use_label_encoder=False when constructing XGBClassifier object; and 2) Encode your labels (y) as integers starting with 0, i.e. 0, 1, 2, ..., [num_class - 1].\n",
      "  warnings.warn(label_encoder_deprecation_msg, UserWarning)\n",
      "/Users/katoutakaaki/opt/anaconda3/lib/python3.8/site-packages/xgboost/sklearn.py:888: UserWarning: The use of label encoder in XGBClassifier is deprecated and will be removed in a future release. To remove this warning, do the following: 1) Pass option use_label_encoder=False when constructing XGBClassifier object; and 2) Encode your labels (y) as integers starting with 0, i.e. 0, 1, 2, ..., [num_class - 1].\n",
      "  warnings.warn(label_encoder_deprecation_msg, UserWarning)\n",
      "/Users/katoutakaaki/opt/anaconda3/lib/python3.8/site-packages/xgboost/sklearn.py:888: UserWarning: The use of label encoder in XGBClassifier is deprecated and will be removed in a future release. To remove this warning, do the following: 1) Pass option use_label_encoder=False when constructing XGBClassifier object; and 2) Encode your labels (y) as integers starting with 0, i.e. 0, 1, 2, ..., [num_class - 1].\n",
      "  warnings.warn(label_encoder_deprecation_msg, UserWarning)\n",
      "/Users/katoutakaaki/opt/anaconda3/lib/python3.8/site-packages/xgboost/sklearn.py:888: UserWarning: The use of label encoder in XGBClassifier is deprecated and will be removed in a future release. To remove this warning, do the following: 1) Pass option use_label_encoder=False when constructing XGBClassifier object; and 2) Encode your labels (y) as integers starting with 0, i.e. 0, 1, 2, ..., [num_class - 1].\n",
      "  warnings.warn(label_encoder_deprecation_msg, UserWarning)\n",
      "/Users/katoutakaaki/opt/anaconda3/lib/python3.8/site-packages/xgboost/sklearn.py:888: UserWarning: The use of label encoder in XGBClassifier is deprecated and will be removed in a future release. To remove this warning, do the following: 1) Pass option use_label_encoder=False when constructing XGBClassifier object; and 2) Encode your labels (y) as integers starting with 0, i.e. 0, 1, 2, ..., [num_class - 1].\n",
      "  warnings.warn(label_encoder_deprecation_msg, UserWarning)\n",
      "/Users/katoutakaaki/opt/anaconda3/lib/python3.8/site-packages/xgboost/sklearn.py:888: UserWarning: The use of label encoder in XGBClassifier is deprecated and will be removed in a future release. To remove this warning, do the following: 1) Pass option use_label_encoder=False when constructing XGBClassifier object; and 2) Encode your labels (y) as integers starting with 0, i.e. 0, 1, 2, ..., [num_class - 1].\n",
      "  warnings.warn(label_encoder_deprecation_msg, UserWarning)\n",
      "/Users/katoutakaaki/opt/anaconda3/lib/python3.8/site-packages/xgboost/sklearn.py:888: UserWarning: The use of label encoder in XGBClassifier is deprecated and will be removed in a future release. To remove this warning, do the following: 1) Pass option use_label_encoder=False when constructing XGBClassifier object; and 2) Encode your labels (y) as integers starting with 0, i.e. 0, 1, 2, ..., [num_class - 1].\n",
      "  warnings.warn(label_encoder_deprecation_msg, UserWarning)\n",
      "/Users/katoutakaaki/opt/anaconda3/lib/python3.8/site-packages/xgboost/sklearn.py:888: UserWarning: The use of label encoder in XGBClassifier is deprecated and will be removed in a future release. To remove this warning, do the following: 1) Pass option use_label_encoder=False when constructing XGBClassifier object; and 2) Encode your labels (y) as integers starting with 0, i.e. 0, 1, 2, ..., [num_class - 1].\n",
      "  warnings.warn(label_encoder_deprecation_msg, UserWarning)\n",
      "/Users/katoutakaaki/opt/anaconda3/lib/python3.8/site-packages/xgboost/sklearn.py:888: UserWarning: The use of label encoder in XGBClassifier is deprecated and will be removed in a future release. To remove this warning, do the following: 1) Pass option use_label_encoder=False when constructing XGBClassifier object; and 2) Encode your labels (y) as integers starting with 0, i.e. 0, 1, 2, ..., [num_class - 1].\n",
      "  warnings.warn(label_encoder_deprecation_msg, UserWarning)\n",
      "/Users/katoutakaaki/opt/anaconda3/lib/python3.8/site-packages/xgboost/sklearn.py:888: UserWarning: The use of label encoder in XGBClassifier is deprecated and will be removed in a future release. To remove this warning, do the following: 1) Pass option use_label_encoder=False when constructing XGBClassifier object; and 2) Encode your labels (y) as integers starting with 0, i.e. 0, 1, 2, ..., [num_class - 1].\n",
      "  warnings.warn(label_encoder_deprecation_msg, UserWarning)\n",
      "/Users/katoutakaaki/opt/anaconda3/lib/python3.8/site-packages/xgboost/sklearn.py:888: UserWarning: The use of label encoder in XGBClassifier is deprecated and will be removed in a future release. To remove this warning, do the following: 1) Pass option use_label_encoder=False when constructing XGBClassifier object; and 2) Encode your labels (y) as integers starting with 0, i.e. 0, 1, 2, ..., [num_class - 1].\n",
      "  warnings.warn(label_encoder_deprecation_msg, UserWarning)\n",
      "/Users/katoutakaaki/opt/anaconda3/lib/python3.8/site-packages/xgboost/sklearn.py:888: UserWarning: The use of label encoder in XGBClassifier is deprecated and will be removed in a future release. To remove this warning, do the following: 1) Pass option use_label_encoder=False when constructing XGBClassifier object; and 2) Encode your labels (y) as integers starting with 0, i.e. 0, 1, 2, ..., [num_class - 1].\n",
      "  warnings.warn(label_encoder_deprecation_msg, UserWarning)\n",
      "/Users/katoutakaaki/opt/anaconda3/lib/python3.8/site-packages/xgboost/sklearn.py:888: UserWarning: The use of label encoder in XGBClassifier is deprecated and will be removed in a future release. To remove this warning, do the following: 1) Pass option use_label_encoder=False when constructing XGBClassifier object; and 2) Encode your labels (y) as integers starting with 0, i.e. 0, 1, 2, ..., [num_class - 1].\n",
      "  warnings.warn(label_encoder_deprecation_msg, UserWarning)\n",
      "/Users/katoutakaaki/opt/anaconda3/lib/python3.8/site-packages/xgboost/sklearn.py:888: UserWarning: The use of label encoder in XGBClassifier is deprecated and will be removed in a future release. To remove this warning, do the following: 1) Pass option use_label_encoder=False when constructing XGBClassifier object; and 2) Encode your labels (y) as integers starting with 0, i.e. 0, 1, 2, ..., [num_class - 1].\n",
      "  warnings.warn(label_encoder_deprecation_msg, UserWarning)\n",
      "/Users/katoutakaaki/opt/anaconda3/lib/python3.8/site-packages/xgboost/sklearn.py:888: UserWarning: The use of label encoder in XGBClassifier is deprecated and will be removed in a future release. To remove this warning, do the following: 1) Pass option use_label_encoder=False when constructing XGBClassifier object; and 2) Encode your labels (y) as integers starting with 0, i.e. 0, 1, 2, ..., [num_class - 1].\n",
      "  warnings.warn(label_encoder_deprecation_msg, UserWarning)\n",
      "/Users/katoutakaaki/opt/anaconda3/lib/python3.8/site-packages/xgboost/sklearn.py:888: UserWarning: The use of label encoder in XGBClassifier is deprecated and will be removed in a future release. To remove this warning, do the following: 1) Pass option use_label_encoder=False when constructing XGBClassifier object; and 2) Encode your labels (y) as integers starting with 0, i.e. 0, 1, 2, ..., [num_class - 1].\n",
      "  warnings.warn(label_encoder_deprecation_msg, UserWarning)\n",
      "/Users/katoutakaaki/opt/anaconda3/lib/python3.8/site-packages/xgboost/sklearn.py:888: UserWarning: The use of label encoder in XGBClassifier is deprecated and will be removed in a future release. To remove this warning, do the following: 1) Pass option use_label_encoder=False when constructing XGBClassifier object; and 2) Encode your labels (y) as integers starting with 0, i.e. 0, 1, 2, ..., [num_class - 1].\n",
      "  warnings.warn(label_encoder_deprecation_msg, UserWarning)\n",
      "/Users/katoutakaaki/opt/anaconda3/lib/python3.8/site-packages/xgboost/sklearn.py:888: UserWarning: The use of label encoder in XGBClassifier is deprecated and will be removed in a future release. To remove this warning, do the following: 1) Pass option use_label_encoder=False when constructing XGBClassifier object; and 2) Encode your labels (y) as integers starting with 0, i.e. 0, 1, 2, ..., [num_class - 1].\n",
      "  warnings.warn(label_encoder_deprecation_msg, UserWarning)\n",
      "/Users/katoutakaaki/opt/anaconda3/lib/python3.8/site-packages/xgboost/sklearn.py:888: UserWarning: The use of label encoder in XGBClassifier is deprecated and will be removed in a future release. To remove this warning, do the following: 1) Pass option use_label_encoder=False when constructing XGBClassifier object; and 2) Encode your labels (y) as integers starting with 0, i.e. 0, 1, 2, ..., [num_class - 1].\n",
      "  warnings.warn(label_encoder_deprecation_msg, UserWarning)\n",
      "/Users/katoutakaaki/opt/anaconda3/lib/python3.8/site-packages/xgboost/sklearn.py:888: UserWarning: The use of label encoder in XGBClassifier is deprecated and will be removed in a future release. To remove this warning, do the following: 1) Pass option use_label_encoder=False when constructing XGBClassifier object; and 2) Encode your labels (y) as integers starting with 0, i.e. 0, 1, 2, ..., [num_class - 1].\n",
      "  warnings.warn(label_encoder_deprecation_msg, UserWarning)\n",
      "/Users/katoutakaaki/opt/anaconda3/lib/python3.8/site-packages/xgboost/sklearn.py:888: UserWarning: The use of label encoder in XGBClassifier is deprecated and will be removed in a future release. To remove this warning, do the following: 1) Pass option use_label_encoder=False when constructing XGBClassifier object; and 2) Encode your labels (y) as integers starting with 0, i.e. 0, 1, 2, ..., [num_class - 1].\n",
      "  warnings.warn(label_encoder_deprecation_msg, UserWarning)\n",
      "/Users/katoutakaaki/opt/anaconda3/lib/python3.8/site-packages/xgboost/sklearn.py:888: UserWarning: The use of label encoder in XGBClassifier is deprecated and will be removed in a future release. To remove this warning, do the following: 1) Pass option use_label_encoder=False when constructing XGBClassifier object; and 2) Encode your labels (y) as integers starting with 0, i.e. 0, 1, 2, ..., [num_class - 1].\n",
      "  warnings.warn(label_encoder_deprecation_msg, UserWarning)\n",
      "/Users/katoutakaaki/opt/anaconda3/lib/python3.8/site-packages/xgboost/sklearn.py:888: UserWarning: The use of label encoder in XGBClassifier is deprecated and will be removed in a future release. To remove this warning, do the following: 1) Pass option use_label_encoder=False when constructing XGBClassifier object; and 2) Encode your labels (y) as integers starting with 0, i.e. 0, 1, 2, ..., [num_class - 1].\n",
      "  warnings.warn(label_encoder_deprecation_msg, UserWarning)\n",
      "/Users/katoutakaaki/opt/anaconda3/lib/python3.8/site-packages/xgboost/sklearn.py:888: UserWarning: The use of label encoder in XGBClassifier is deprecated and will be removed in a future release. To remove this warning, do the following: 1) Pass option use_label_encoder=False when constructing XGBClassifier object; and 2) Encode your labels (y) as integers starting with 0, i.e. 0, 1, 2, ..., [num_class - 1].\n",
      "  warnings.warn(label_encoder_deprecation_msg, UserWarning)\n"
     ]
    },
    {
     "name": "stdout",
     "output_type": "stream",
     "text": [
      "Optimized acc ACC score\n",
      "XGBoost f1-score:  0.7867298578199052\n"
     ]
    },
    {
     "name": "stderr",
     "output_type": "stream",
     "text": [
      "/Users/katoutakaaki/opt/anaconda3/lib/python3.8/site-packages/xgboost/sklearn.py:888: UserWarning: The use of label encoder in XGBClassifier is deprecated and will be removed in a future release. To remove this warning, do the following: 1) Pass option use_label_encoder=False when constructing XGBClassifier object; and 2) Encode your labels (y) as integers starting with 0, i.e. 0, 1, 2, ..., [num_class - 1].\n",
      "  warnings.warn(label_encoder_deprecation_msg, UserWarning)\n",
      "/Users/katoutakaaki/opt/anaconda3/lib/python3.8/site-packages/xgboost/sklearn.py:888: UserWarning: The use of label encoder in XGBClassifier is deprecated and will be removed in a future release. To remove this warning, do the following: 1) Pass option use_label_encoder=False when constructing XGBClassifier object; and 2) Encode your labels (y) as integers starting with 0, i.e. 0, 1, 2, ..., [num_class - 1].\n",
      "  warnings.warn(label_encoder_deprecation_msg, UserWarning)\n"
     ]
    }
   ],
   "source": [
    "import numpy as np\n",
    "import pandas as pd\n",
    "import matplotlib.pyplot as plt\n",
    "import seaborn as sns\n",
    "\n",
    "# データセットの読み込み\n",
    "train_data = pd.read_csv('./train.csv')\n",
    "test_data = pd.read_csv('./test.csv')\n",
    "\n",
    "# train_dataとtest_dataの連結\n",
    "test_data['Survived'] = np.nan\n",
    "df = pd.concat([train_data, test_data], ignore_index=True, sort=False)\n",
    "\n",
    "# dfの情報\n",
    "df.info()\n",
    "\n",
    "# Sexと生存率の関係 \n",
    "sns.barplot(x='Sex', y='Survived', data=df, palette='Set3')\n",
    "plt.show()\n",
    "\n",
    "# ------------ Age ------------\n",
    "# Age を Pclass, Sex, Parch, SibSp からランダムフォレストで推定\n",
    "from sklearn.ensemble import RandomForestRegressor\n",
    "\n",
    "# 推定に使用する項目を指定\n",
    "age_df = df[['Age', 'Pclass','Sex','Parch','SibSp']]\n",
    "\n",
    "# ラベル特徴量をワンホットエンコーディング\n",
    "age_df=pd.get_dummies(age_df)\n",
    "\n",
    "# 学習データとテストデータに分離し、numpyに変換\n",
    "known_age = age_df[age_df.Age.notnull()].values  \n",
    "unknown_age = age_df[age_df.Age.isnull()].values\n",
    "\n",
    "# 学習データをX, yに分離\n",
    "X = known_age[:, 1:]  \n",
    "y = known_age[:, 0]\n",
    "\n",
    "# ランダムフォレストで推定モデルを構築\n",
    "rfr = RandomForestRegressor(random_state=0, n_estimators=100, n_jobs=-1)\n",
    "rfr.fit(X, y)\n",
    "\n",
    "# 推定モデルを使って、テストデータのAgeを予測し、補完\n",
    "predictedAges = rfr.predict(unknown_age[:, 1::])\n",
    "df.loc[(df.Age.isnull()), 'Age'] = predictedAges \n",
    "\n",
    "# 年齢別生存曲線と死亡曲線\n",
    "facet = sns.FacetGrid(df[0:890], hue=\"Survived\",aspect=2)\n",
    "facet.map(sns.kdeplot,'Age',shade= True)\n",
    "facet.set(xlim=(0, df.loc[0:890,'Age'].max()))\n",
    "facet.add_legend()\n",
    "plt.show()\n",
    "\n",
    "# ------------ Name --------------\n",
    "# Nameから敬称(Title)を抽出し、グルーピング\n",
    "df['Title'] = df['Name'].map(lambda x: x.split(', ')[1].split('. ')[0])\n",
    "df['Title'].replace(['Capt', 'Col', 'Major', 'Dr', 'Rev'], 'Officer', inplace=True)\n",
    "df['Title'].replace(['Don', 'Sir',  'the Countess', 'Lady', 'Dona'], 'Royalty', inplace=True)\n",
    "df['Title'].replace(['Mme', 'Ms'], 'Mrs', inplace=True)\n",
    "df['Title'].replace(['Mlle'], 'Miss', inplace=True)\n",
    "df['Title'].replace(['Jonkheer'], 'Master', inplace=True)\n",
    "sns.barplot(x='Title', y='Survived', data=df, palette='Set3')\n",
    "\n",
    "# ------------ Surname ------------\n",
    "# NameからSurname(苗字)を抽出\n",
    "df['Surname'] = df['Name'].map(lambda name:name.split(',')[0].strip())\n",
    "\n",
    "# 同じSurname(苗字)の出現頻度をカウント(出現回数が2以上なら家族)\n",
    "df['FamilyGroup'] = df['Surname'].map(df['Surname'].value_counts()) \n",
    "\n",
    "# 家族で16才以下または女性の生存率\n",
    "Female_Child_Group=df.loc[(df['FamilyGroup']>=2) & ((df['Age']<=16) | (df['Sex']=='female'))]\n",
    "Female_Child_Group=Female_Child_Group.groupby('Surname')['Survived'].mean()\n",
    "print(Female_Child_Group.value_counts())\n",
    "\n",
    "# 家族で16才超えかつ男性の生存率\n",
    "Male_Adult_Group=df.loc[(df['FamilyGroup']>=2) & (df['Age']>16) & (df['Sex']=='male')]\n",
    "Male_Adult_List=Male_Adult_Group.groupby('Surname')['Survived'].mean()\n",
    "print(Male_Adult_List.value_counts())\n",
    "\n",
    "# デッドリストとサバイブリストの作成\n",
    "Dead_list=set(Female_Child_Group[Female_Child_Group.apply(lambda x:x==0)].index)\n",
    "Survived_list=set(Male_Adult_List[Male_Adult_List.apply(lambda x:x==1)].index)\n",
    "\n",
    "# デッドリストとサバイブリストの表示\n",
    "print('Dead_list = ', Dead_list)\n",
    "print('Survived_list = ', Survived_list)\n",
    "\n",
    "# デッドリストとサバイブリストをSex, Age, Title に反映させる\n",
    "df.loc[(df['Survived'].isnull()) & (df['Surname'].apply(lambda x:x in Dead_list)),\\\n",
    "             ['Sex','Age','Title']] = ['male',28.0,'Mr']\n",
    "df.loc[(df['Survived'].isnull()) & (df['Surname'].apply(lambda x:x in Survived_list)),\\\n",
    "             ['Sex','Age','Title']] = ['female',5.0,'Mrs']\n",
    "\n",
    "# ----------- Fare -------------\n",
    "# 欠損値を Embarked='S', Pclass=3 の平均値で補完\n",
    "fare=df.loc[(df['Embarked'] == 'S') & (df['Pclass'] == 3), 'Fare'].median()\n",
    "df['Fare']=df['Fare'].fillna(fare)\n",
    "\n",
    "# ----------- Family -------------\n",
    "# Family = SibSp + Parch + 1 を特徴量とし、グルーピング\n",
    "df['Family']=df['SibSp']+df['Parch']+1\n",
    "df.loc[(df['Family']>=2) & (df['Family']<=4), 'Family_label'] = 2\n",
    "df.loc[(df['Family']>=5) & (df['Family']<=7) | (df['Family']==1), 'Family_label'] = 1  # == に注意\n",
    "df.loc[(df['Family']>=8), 'Family_label'] = 0\n",
    "\n",
    "# ----------- Ticket ----------------\n",
    "# 同一Ticketナンバーの人が何人いるかを特徴量として抽出\n",
    "Ticket_Count = dict(df['Ticket'].value_counts())\n",
    "df['TicketGroup'] = df['Ticket'].map(Ticket_Count)\n",
    "sns.barplot(x='TicketGroup', y='Survived', data=df, palette='Set3')\n",
    "plt.show()\n",
    "\n",
    "# 生存率で3つにグルーピング\n",
    "df.loc[(df['TicketGroup']>=2) & (df['TicketGroup']<=4), 'Ticket_label'] = 2\n",
    "df.loc[(df['TicketGroup']>=5) & (df['TicketGroup']<=8) | (df['TicketGroup']==1), 'Ticket_label'] = 1  \n",
    "df.loc[(df['TicketGroup']>=11), 'Ticket_label'] = 0\n",
    "sns.barplot(x='Ticket_label', y='Survived', data=df, palette='Set3')\n",
    "plt.show()\n",
    "\n",
    "# ------------- Cabin ----------------\n",
    "# Cabinの先頭文字を特徴量とする(欠損値は U )\n",
    "df['Cabin'] = df['Cabin'].fillna('Unknown')\n",
    "df['Cabin_label']=df['Cabin'].str.get(0)\n",
    "sns.barplot(x='Cabin_label', y='Survived', data=df, palette='Set3')\n",
    "plt.show()\n",
    "\n",
    "# ---------- Embarked ---------------\n",
    "# 欠損値をSで補完\n",
    "df['Embarked'] = df['Embarked'].fillna('S') \n",
    "\n",
    "# ------------- 前処理 ---------------\n",
    "# 推定に使用する項目を指定\n",
    "df = df[['Survived','Pclass','Sex','Age','Fare','Embarked','Title','Family_label','Cabin_label','Ticket_label']]\n",
    "\n",
    "# ラベル特徴量をワンホットエンコーディング\n",
    "df = pd.get_dummies(df)\n",
    "\n",
    "# データセットを trainとtestに分割\n",
    "train = df[df['Survived'].notnull()]\n",
    "test = df[df['Survived'].isnull()].drop('Survived',axis=1)\n",
    "\n",
    "# データフレームをnumpyに変換\n",
    "X = train.values[:,1:]  \n",
    "y = train.values[:,0] \n",
    "test_x = test.values\n",
    "\n",
    "# ----------- 推定モデル構築 ---------------\n",
    "from sklearn.feature_selection import SelectKBest\n",
    "from sklearn.ensemble import RandomForestClassifier\n",
    "from sklearn.pipeline import make_pipeline\n",
    "from sklearn.model_selection import cross_validate\n",
    "\n",
    "# 前処理用ライブラリ\n",
    "from sklearn.preprocessing import StandardScaler\n",
    "\n",
    "# パラメータチューニング用ライブラリ Optuna\n",
    "import optuna\n",
    "from optuna.samplers import TPESampler\n",
    "# ログがうるさいのできる\n",
    "optuna.logging.set_verbosity(optuna.logging.WARNING)\n",
    "\n",
    "# 機械学習ライブラリ\n",
    "import xgboost as xgb\n",
    "from sklearn.model_selection import train_test_split\n",
    "from sklearn.preprocessing import StandardScaler\n",
    "from sklearn.metrics import accuracy_score,f1_score\n",
    "# 採用する特徴量を25個から20個に絞り込む\n",
    "select = SelectKBest(k = 20)\n",
    "\n",
    "\n",
    "class Optimizer:\n",
    "    def __init__(self, metric, trials=50):\n",
    "        self.metric = metric\n",
    "        self.trials = trials\n",
    "        self.sampler = TPESampler(seed=42)\n",
    "        \n",
    "    def objective(self, trial):\n",
    "        model = create_model(trial)\n",
    "        model.fit(X_train, y_train)\n",
    "        preds = model.predict(X_valid)\n",
    "        if self.metric == 'acc':\n",
    "            return accuracy_score(y_valid, preds)\n",
    "        else:\n",
    "            return f1_score(y_valid, preds)\n",
    "            \n",
    "    def optimize(self):\n",
    "        study = optuna.create_study(direction=\"maximize\", sampler=self.sampler)\n",
    "        study.optimize(self.objective, n_trials=self.trials)\n",
    "        return study.best_params\n",
    "    \n",
    "def create_model(trial):\n",
    "    max_depth = trial.suggest_int(\"max_depth\", 2, 6)\n",
    "    n_estimators = trial.suggest_int(\"n_estimators\", 1, 150)\n",
    "    learning_rate = trial.suggest_uniform('learning_rate', 0.0000001, 1)\n",
    "    gamma = trial.suggest_uniform('gamma', 0.0000001, 1)\n",
    "    subsample = trial.suggest_uniform('subsample', 0.0001, 1.0)\n",
    "    model = xgb.XGBClassifier(\n",
    "        learning_rate=learning_rate, \n",
    "        n_estimators=n_estimators, \n",
    "        max_depth=max_depth, \n",
    "        gamma=gamma, \n",
    "        subsample=subsample,\n",
    "        silent=True,\n",
    "        verbosity = 0,\n",
    "        random_state=42\n",
    "    )\n",
    "    return model\n",
    "\n",
    "X_train, X_valid, y_train, y_valid = train_test_split(X, y, test_size=0.3, random_state=42)\n",
    "\n",
    "optimizer = Optimizer('f1')\n",
    "xgb_f1_params = optimizer.optimize()\n",
    "xgb_f1_params['random_state'] = 42\n",
    "xgb_f1 = xgb.XGBClassifier(\n",
    "    **xgb_f1_params,\n",
    ")\n",
    "xgb_f1.fit(X_train, y_train)\n",
    "preds = xgb_f1.predict(X_valid)\n",
    "\n",
    "print('Optimized acc ACC score')\n",
    "print('XGBoost f1-score: ', f1_score(y_valid, preds))\n",
    "\n",
    "xgb_f1.fit(X,y)\n",
    "test_Y = xgb_f1.predict(test_x)\n",
    "\n",
    "sample_submission = pd.read_csv('gender_submission.csv')\n",
    "sample_submission['Survived'] = test_Y\n",
    "\n",
    "sample_submission.to_csv('submission_xgb.csv', index=False)"
   ]
  },
  {
   "cell_type": "code",
   "execution_count": null,
   "metadata": {},
   "outputs": [],
   "source": []
  }
 ],
 "metadata": {
  "kernelspec": {
   "display_name": "Python 3",
   "language": "python",
   "name": "python3"
  },
  "language_info": {
   "codemirror_mode": {
    "name": "ipython",
    "version": 3
   },
   "file_extension": ".py",
   "mimetype": "text/x-python",
   "name": "python",
   "nbconvert_exporter": "python",
   "pygments_lexer": "ipython3",
   "version": "3.8.5"
  }
 },
 "nbformat": 4,
 "nbformat_minor": 4
}
